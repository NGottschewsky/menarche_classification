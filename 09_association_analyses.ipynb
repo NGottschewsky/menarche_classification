{
 "cells": [
  {
   "cell_type": "code",
   "execution_count": null,
   "id": "65edf361",
   "metadata": {},
   "outputs": [],
   "source": [
    "import pandas as pd\n",
    "import numpy as np\n",
    "from numpy import sqrt\n",
    "from matplotlib import pyplot as plt\n",
    "import seaborn as sns\n",
    "import os\n",
    "\n",
    "\n",
    "import scipy.stats as scipystats\n",
    "from scipy.stats import pearsonr\n",
    "\n",
    "import sklearn\n",
    "from sklearn.metrics import mean_squared_error\n",
    "from sklearn.metrics import confusion_matrix, mean_squared_error\n",
    "\n",
    "\n",
    "import xgboost as xgb\n",
    "\n",
    "\n",
    "import statsmodels\n",
    "import statsmodels.formula.api as smf\n",
    "import statsmodels.api as sm\n",
    "import statsmodels.stats as stats \n",
    "import statsmodels.stats.stattools as stools\n",
    "from statsmodels.graphics.regressionplots import *\n",
    "from tabulate import tabulate\n",
    "from prettytable import PrettyTable"
   ]
  },
  {
   "cell_type": "code",
   "execution_count": null,
   "id": "0c3d1931",
   "metadata": {},
   "outputs": [],
   "source": [
    "sns.set_style({'axes.facecolor': 'white',\n",
    " 'axes.edgecolor': '.15',\n",
    " 'axes.grid': True,\n",
    " 'axes.axisbelow': True,\n",
    " 'axes.labelcolor': '.15',\n",
    " 'figure.facecolor': 'white',\n",
    " 'grid.color': '.8',\n",
    " 'grid.linestyle': '-',\n",
    " 'text.color': '.15',\n",
    " 'xtick.color': '.15',\n",
    " 'ytick.color': '.15',\n",
    " 'xtick.direction': 'out',\n",
    " 'ytick.direction': 'out',\n",
    " #'lines.solid_capstyle': <CapStyle.round: 'round'>,\n",
    " 'patch.edgecolor': 'w',\n",
    " 'patch.force_edgecolor': True,\n",
    " 'image.cmap': 'rocket',\n",
    " 'font.family': ['sans-serif'],\n",
    " 'font.sans-serif': ['Arial',\n",
    "  'DejaVu Sans',\n",
    "  'Liberation Sans',\n",
    "  'Bitstream Vera Sans',\n",
    "  'sans-serif'],\n",
    " 'xtick.bottom': False,\n",
    " 'xtick.top': False,\n",
    " 'ytick.left': False,\n",
    " 'ytick.right': False,\n",
    " 'axes.spines.left': True,\n",
    " 'axes.spines.bottom': True,\n",
    " 'axes.spines.right': True,\n",
    " 'axes.spines.top': True})"
   ]
  },
  {
   "cell_type": "code",
   "execution_count": null,
   "id": "640e5dc9",
   "metadata": {},
   "outputs": [],
   "source": [
    "sns.set_context({'font.size': 17.0,\n",
    " 'axes.labelsize': 'medium',\n",
    " 'axes.titlesize': 'large',\n",
    " 'xtick.labelsize': 'medium',\n",
    " 'ytick.labelsize': 'medium',\n",
    " 'legend.fontsize': 'medium',\n",
    " 'axes.linewidth': 0.8,\n",
    " 'grid.linewidth': 0.8,\n",
    " 'lines.linewidth': 1.5,\n",
    " 'lines.markersize': 6.0,\n",
    " 'patch.linewidth': 1.0,\n",
    " 'xtick.major.width': 0.8,\n",
    " 'ytick.major.width': 0.8,\n",
    " 'xtick.minor.width': 0.6,\n",
    " 'ytick.minor.width': 0.6,\n",
    " 'xtick.major.size': 3.5,\n",
    " 'ytick.major.size': 3.5,\n",
    " 'xtick.minor.size': 2.0,\n",
    " 'ytick.minor.size': 2.0,\n",
    " 'legend.title_fontsize': None})"
   ]
  },
  {
   "cell_type": "code",
   "execution_count": null,
   "id": "2940f897",
   "metadata": {},
   "outputs": [],
   "source": [
    "plotdir = 'Plots\\\\'"
   ]
  },
  {
   "cell_type": "markdown",
   "id": "64d26066",
   "metadata": {},
   "source": [
    "## Skip to chapter \"Load combined dataset\" "
   ]
  },
  {
   "cell_type": "code",
   "execution_count": null,
   "id": "83199fdb",
   "metadata": {},
   "outputs": [],
   "source": [
    "BAGandMenarche = pd.read_csv('processedData\\\\BAGandMenarche.csv')"
   ]
  },
  {
   "cell_type": "code",
   "execution_count": null,
   "id": "3b070aad",
   "metadata": {},
   "outputs": [],
   "source": [
    "X = BAGandMenarche['interview_age_M1']\n",
    "y = BAGandMenarche['BAG']\n",
    "\n",
    "X = sm.add_constant(X)\n",
    "\n",
    "model = sm.OLS(y,X)\n",
    "results = model.fit()\n",
    "\n",
    "#print(results.summary())\n",
    "# Create a PrettyTable object\n",
    "table = PrettyTable()\n",
    "table.field_names = [\"Variable\", \"Coefficient\", \"Std. Error\", \"t-value\", \"p-value\"]\n",
    "\n",
    "# Iterate over coefficients and add rows to the table\n",
    "for idx, coef in enumerate(results.params):\n",
    "    row = [\n",
    "        f\" {results.params.index[idx]}\",\n",
    "        \"{:.4f}\".format(coef),\n",
    "        \"{:.4f}\".format(results.bse[idx]),\n",
    "        \"{:.4f}\".format(results.tvalues[idx]),\n",
    "        \"{:.4f}\".format(results.pvalues[idx])\n",
    "    ]\n",
    "    table.add_row(row)\n",
    "\n",
    "# Print the table\n",
    "print(table)"
   ]
  },
  {
   "cell_type": "code",
   "execution_count": null,
   "id": "8954453d",
   "metadata": {},
   "outputs": [],
   "source": [
    "BAGandMenarche['BAG_resids'] = results.resid"
   ]
  },
  {
   "cell_type": "code",
   "execution_count": null,
   "id": "87054c85",
   "metadata": {},
   "outputs": [],
   "source": [
    "scannerdata = pd.read_csv('ABCDTabular\\\\abcd_mri01.txt',sep='\\s+')\n",
    "scannerdata = scannerdata.drop(index = 0)"
   ]
  },
  {
   "cell_type": "code",
   "execution_count": null,
   "id": "21b1542a",
   "metadata": {},
   "outputs": [],
   "source": [
    "scanred = scannerdata.loc[scannerdata['subjectkey'].isin(BAGandMenarche['subjectkey'])]"
   ]
  },
  {
   "cell_type": "code",
   "execution_count": null,
   "id": "52812ca8",
   "metadata": {},
   "outputs": [],
   "source": [
    "scanred = scanred[scanred['eventname'] == '2_year_follow_up_y_arm_1']"
   ]
  },
  {
   "cell_type": "code",
   "execution_count": null,
   "id": "ffbc5b6c",
   "metadata": {},
   "outputs": [],
   "source": [
    "scanner = scanred[['subjectkey', 'mri_info_deviceserialnumber']].copy()"
   ]
  },
  {
   "cell_type": "code",
   "execution_count": null,
   "id": "4f1914e3",
   "metadata": {},
   "outputs": [],
   "source": [
    "BAGandMenarchescanner = BAGandMenarche.merge(scanner, how = 'outer', on = 'subjectkey')"
   ]
  },
  {
   "cell_type": "code",
   "execution_count": null,
   "id": "907f8620",
   "metadata": {},
   "outputs": [],
   "source": [
    "BAGandMenDummies = pd.get_dummies(BAGandMenarchescanner, columns=['mri_info_deviceserialnumber'], drop_first=True, dtype = int)"
   ]
  },
  {
   "cell_type": "code",
   "execution_count": null,
   "id": "4b2b6f5f",
   "metadata": {},
   "outputs": [],
   "source": [
    "BAGandMenDummies = BAGandMenDummies.merge(scanner, how = 'outer', on = 'subjectkey')"
   ]
  },
  {
   "cell_type": "code",
   "execution_count": null,
   "id": "4f508d01",
   "metadata": {},
   "outputs": [],
   "source": [
    "BAGandMenDummies.rename(columns={'mri_info_deviceserialnumber': 'scanner','interview_age_M1': 'age'}, inplace = True)"
   ]
  },
  {
   "cell_type": "code",
   "execution_count": null,
   "id": "cbb5ecea",
   "metadata": {},
   "outputs": [],
   "source": [
    "BAGandMenDummies.to_csv('processedData\\\\BainAgePlusScannerFemale2301.csv', index = False)"
   ]
  },
  {
   "cell_type": "code",
   "execution_count": null,
   "id": "4dea3424",
   "metadata": {},
   "outputs": [],
   "source": [
    "dummies1 = BAGandMenDummies.filter(regex=\".*mri_info_deviceserialnumber.*\").columns.to_list()\n",
    "additionalcolumns = ['age']\n",
    "dummies1.extend(additionalcolumns)"
   ]
  },
  {
   "cell_type": "code",
   "execution_count": null,
   "id": "7692bbe7",
   "metadata": {},
   "outputs": [],
   "source": [
    "X = BAGandMenDummies[dummies1]\n",
    "y = BAGandMenDummies['BAG']\n",
    "\n",
    "X = sm.add_constant(X)\n",
    "\n",
    "model = sm.OLS(y,X)\n",
    "results1 = model.fit()\n",
    "\n",
    "print(results1.summary())"
   ]
  },
  {
   "cell_type": "code",
   "execution_count": null,
   "id": "25379213",
   "metadata": {},
   "outputs": [],
   "source": [
    "BAGandMenDummies['BAGresidAgeScanner'] = results1.resid"
   ]
  },
  {
   "cell_type": "code",
   "execution_count": null,
   "id": "f4e7f91e",
   "metadata": {},
   "outputs": [],
   "source": [
    "BAGandMenDummies.rename(columns={'prob post': \"probsPost\"}, inplace = True)"
   ]
  },
  {
   "cell_type": "code",
   "execution_count": null,
   "id": "32bc914e",
   "metadata": {},
   "outputs": [],
   "source": [
    "X = BAGandMenDummies[dummies1]\n",
    "y = BAGandMenDummies['probsPost']\n",
    "\n",
    "X = sm.add_constant(X)\n",
    "\n",
    "model = sm.OLS(y,X)\n",
    "results2 = model.fit()\n",
    "\n",
    "print(results2.summary())"
   ]
  },
  {
   "cell_type": "code",
   "execution_count": null,
   "id": "b1c230db",
   "metadata": {},
   "outputs": [],
   "source": [
    "BAGandMenDummies['ProbsPostresidAgeScanner'] = results2.resid"
   ]
  },
  {
   "cell_type": "code",
   "execution_count": null,
   "id": "7950eabe",
   "metadata": {},
   "outputs": [],
   "source": [
    "X = BAGandMenDummies['ProbsPostresidAgeScanner']\n",
    "y = BAGandMenDummies['BAGresidAgeScanner']\n",
    "\n",
    "X = sm.add_constant(X)\n",
    "\n",
    "model = sm.OLS(y,X)\n",
    "results = model.fit()\n",
    "\n",
    "print(results.summary())"
   ]
  },
  {
   "cell_type": "code",
   "execution_count": null,
   "id": "a24d369d",
   "metadata": {},
   "outputs": [],
   "source": [
    "menarcheAge = pd.read_csv('processedData\\\\relevantMenarcheData2year.csv')"
   ]
  },
  {
   "cell_type": "code",
   "execution_count": null,
   "id": "322f9ae7",
   "metadata": {},
   "outputs": [],
   "source": [
    "menarcheAge.columns"
   ]
  },
  {
   "cell_type": "code",
   "execution_count": null,
   "id": "c93a2d1d",
   "metadata": {},
   "outputs": [],
   "source": [
    "menarcheAgeRed = menarcheAge[menarcheAge['subjectkey'].isin(BAGandMenDummies['subjectkey'])][['subjectkey', 'pds_f5_y', 'pds_f6_y']]"
   ]
  },
  {
   "cell_type": "code",
   "execution_count": null,
   "id": "5ca16679",
   "metadata": {},
   "outputs": [],
   "source": [
    "BAGandMenDummiesExtended = BAGandMenDummies.merge(menarcheAgeRed, how = 'outer', on = 'subjectkey')"
   ]
  },
  {
   "cell_type": "code",
   "execution_count": null,
   "id": "e2daeb62",
   "metadata": {},
   "outputs": [],
   "source": [
    "countdf = BAGandMenDummiesExtended.groupby('pds_f5_y').size().reset_index(name = 'count')"
   ]
  },
  {
   "cell_type": "code",
   "execution_count": null,
   "id": "42605a35",
   "metadata": {},
   "outputs": [],
   "source": [
    "countdf"
   ]
  },
  {
   "cell_type": "code",
   "execution_count": null,
   "id": "a01c7f6f",
   "metadata": {},
   "outputs": [],
   "source": [
    "BAGandMenDummiesExtended.groupby('pds_f5_y')['age'].mean()/12"
   ]
  },
  {
   "cell_type": "code",
   "execution_count": null,
   "id": "e1b98010",
   "metadata": {},
   "outputs": [],
   "source": [
    "BAGandMenDummiesExtended.groupby('pds_f5_y')['age'].std()/12"
   ]
  },
  {
   "cell_type": "code",
   "execution_count": null,
   "id": "8c9a1e3e",
   "metadata": {},
   "outputs": [],
   "source": [
    "BAGandMenDummiesPost = BAGandMenDummiesExtended[BAGandMenDummiesExtended['pds_f5_y'] == 4]\n",
    "\n",
    "BAGandMenDummiesPre = BAGandMenDummiesExtended[BAGandMenDummiesExtended['pds_f5_y'] == 1]"
   ]
  },
  {
   "cell_type": "code",
   "execution_count": null,
   "id": "90fc0c79",
   "metadata": {},
   "outputs": [],
   "source": [
    "BAGandMenDummiesPost['pds_f6_y'].isna().sum()"
   ]
  },
  {
   "cell_type": "code",
   "execution_count": null,
   "id": "7282201f",
   "metadata": {},
   "outputs": [],
   "source": [
    "BAGandMenDummiesPost.dropna(subset = ['pds_f6_y'], inplace=True)"
   ]
  },
  {
   "cell_type": "code",
   "execution_count": null,
   "id": "c3b5c8d8",
   "metadata": {},
   "outputs": [],
   "source": [
    "# look at distribution of test data\n",
    "ageAtMenDist = BAGandMenDummiesPost.groupby(['pds_f6_y']).size().reset_index(name='count')"
   ]
  },
  {
   "cell_type": "code",
   "execution_count": null,
   "id": "0cf5820d",
   "metadata": {},
   "outputs": [],
   "source": [
    "ageAtMenDist"
   ]
  },
  {
   "cell_type": "markdown",
   "id": "4fdeb116",
   "metadata": {},
   "source": [
    "# statsmodel formula"
   ]
  },
  {
   "cell_type": "code",
   "execution_count": null,
   "id": "75941a1d",
   "metadata": {},
   "outputs": [],
   "source": [
    "import statsmodels.formula.api as smf"
   ]
  },
  {
   "cell_type": "code",
   "execution_count": null,
   "id": "95eaaa6a",
   "metadata": {},
   "outputs": [],
   "source": [
    "tempDf = BAGandMenDummiesPost[['probsPost', 'BAG', 'pds_f6_y', 'age', 'scanner']]"
   ]
  },
  {
   "cell_type": "code",
   "execution_count": null,
   "id": "f5ef85c1",
   "metadata": {},
   "outputs": [],
   "source": [
    "classprobsPDSf6 = 'probsPost ~ pds_f6_y + age + C(scanner)'\n",
    "\n",
    "model2 = smf.ols(formula=classprobsPDSf6, data=tempDf).fit()"
   ]
  },
  {
   "cell_type": "code",
   "execution_count": null,
   "id": "51551dd6",
   "metadata": {},
   "outputs": [],
   "source": [
    "summary2 = model2.summary()"
   ]
  },
  {
   "cell_type": "code",
   "execution_count": null,
   "id": "18ed1d15",
   "metadata": {
    "scrolled": false
   },
   "outputs": [],
   "source": [
    "print(classprobsPDSf6)\n",
    "print(int(model2.nobs))\n",
    "print(model2.df_model, model2.df_resid)\n",
    "print('R2: ', model2.rsquared)#\n",
    "print(summary2.tables[1])"
   ]
  },
  {
   "cell_type": "code",
   "execution_count": null,
   "id": "53bd66e3",
   "metadata": {},
   "outputs": [],
   "source": [
    "classprobsPDSf62 = 'BAG ~ pds_f6_y + age + C(scanner)'\n",
    "\n",
    "model3 = smf.ols(formula=classprobsPDSf62, data=tempDf).fit()"
   ]
  },
  {
   "cell_type": "code",
   "execution_count": null,
   "id": "bd7fd731",
   "metadata": {},
   "outputs": [],
   "source": [
    "summary3 = model3.summary()"
   ]
  },
  {
   "cell_type": "code",
   "execution_count": null,
   "id": "b858da94",
   "metadata": {
    "scrolled": false
   },
   "outputs": [],
   "source": [
    "print(classprobsPDSf62)\n",
    "print(int(model3.nobs))\n",
    "print('R2: ', model3.rsquared)#\n",
    "print(summary3.tables[1])"
   ]
  },
  {
   "cell_type": "code",
   "execution_count": null,
   "id": "ecf25584",
   "metadata": {},
   "outputs": [],
   "source": [
    "classprobsPDSf63 = 'pds_f6_y ~ probsPost + BAG + age'\n",
    "\n",
    "model4 = smf.ols(formula=classprobsPDSf63, data=tempDf).fit()"
   ]
  },
  {
   "cell_type": "code",
   "execution_count": null,
   "id": "0876360a",
   "metadata": {},
   "outputs": [],
   "source": [
    "summary4 = model4.summary()"
   ]
  },
  {
   "cell_type": "code",
   "execution_count": null,
   "id": "5e63d910",
   "metadata": {
    "scrolled": false
   },
   "outputs": [],
   "source": [
    "print(classprobsPDSf63)\n",
    "print(int(model4.nobs))\n",
    "print('R2: ', model4.rsquared)#\n",
    "print(summary4.tables[1])"
   ]
  },
  {
   "cell_type": "code",
   "execution_count": null,
   "id": "237c9d61",
   "metadata": {},
   "outputs": [],
   "source": [
    "ProbsPostBAG = 'BAGresidAgeScanner ~ ProbsPostresidAgeScanner'\n",
    "\n",
    "model4 = smf.ols(formula=ProbsPostBAG, data=BAGandMenDummies).fit()"
   ]
  },
  {
   "cell_type": "code",
   "execution_count": null,
   "id": "b84ae128",
   "metadata": {},
   "outputs": [],
   "source": [
    "summary4 = model4.summary()"
   ]
  },
  {
   "cell_type": "code",
   "execution_count": null,
   "id": "1cac8fcb",
   "metadata": {
    "scrolled": false
   },
   "outputs": [],
   "source": [
    "print(ProbsPostBAG)\n",
    "print(int(model4.nobs))\n",
    "print('R2: ', model4.rsquared)#\n",
    "print(model4.df_model, model4.df_resid)\n",
    "print(summary4.tables[1])"
   ]
  },
  {
   "cell_type": "code",
   "execution_count": null,
   "id": "5923f7f1",
   "metadata": {},
   "outputs": [],
   "source": [
    "# 215 rows, sample with replacement to calculate 95% confidence interval \n",
    "\n",
    "classprobsPDSf6 = 'probsPost ~ pds_f6_y + age + C(scanner)'\n",
    "\n",
    "n_bootstraps = 1000\n",
    "bootstrapped_tvalues = []\n",
    "bootstrapped_pvalues = []\n",
    "bootstrapped_coefs = []\n",
    "bootstrapped_coefs_intercept = []\n",
    "bootstrapped_confIntlow = []\n",
    "bootstrapped_confInthigh = []\n",
    "\n",
    "for i in range(n_bootstraps):\n",
    "\n",
    "    tempDf_sampled = tempDf.sample(frac = 1, replace = True, random_state = i, axis = 0)\n",
    "    \n",
    "    model = smf.ols(formula=classprobsPDSf6, data=tempDf_sampled).fit()\n",
    "    \n",
    "    bootstrapped_tvalues.append(model.tvalues[-2])\n",
    "    bootstrapped_pvalues.append(model.pvalues[-2])\n",
    "    bootstrapped_coefs.append(model.params[-2])\n",
    "    bootstrapped_coefs_intercept.append(model.params[0])\n",
    "    bootstrapped_confIntlow.append(model.conf_int()[0][-2])\n",
    "    bootstrapped_confInthigh.append(model.conf_int()[1][-2])\n",
    "\n",
    "#print(bootstrapped_results.mean())\n",
    "print('mean p: ', np.mean(bootstrapped_pvalues))\n",
    "print('mean t: ', np.mean(bootstrapped_tvalues))\n",
    "print('mean coef: ', np.mean(bootstrapped_coefs))\n",
    "print('mean coef intercept: ', np.mean(bootstrapped_coefs_intercept))\n",
    "print('mean 0.025 conf int: ', np.mean(bootstrapped_confIntlow))\n",
    "print('mean 0.975 conf int: ', np.mean(bootstrapped_confInthigh))\n",
    "#print('95th percentile: ', np.percentile(bootstrapped_p_menarcheClassProbs, 95))\n",
    "#print('5th percentile: ', np.percentile(bootstrapped_p_menarcheClassProbs, 5))"
   ]
  },
  {
   "cell_type": "code",
   "execution_count": null,
   "id": "1ae8c6f7",
   "metadata": {},
   "outputs": [],
   "source": [
    "table = PrettyTable()\n",
    "table.field_names = [\"Classprobabilities ~ Age at Menarche\", \"t-value\", \"p-value\", \"coef\", \"coef intercept\", '[.025', '0.975]']\n",
    "\n",
    "\n",
    "row1 = [\n",
    "    'original sample',\n",
    "    \"{:.4f}\".format(model2.tvalues[-2]),\n",
    "    \"{:.4f}\".format(model2.pvalues[-2]),\n",
    "    \"{:.4f}\".format(model2.params[-2]),\n",
    "    \"{:.4f}\".format(model2.params[0]),\n",
    "    \"{:.4f}\".format(model2.conf_int()[0][-2]),\n",
    "    \"{:.4f}\".format(model2.conf_int()[1][-2])\n",
    "]\n",
    "\n",
    "table.add_row(row1)\n",
    "\n",
    "row2= [\n",
    "    'bootstrapped (means)',\n",
    "    \"{:.4f}\".format(np.mean(bootstrapped_tvalues)),\n",
    "    \"{:.4f}\".format(np.mean(bootstrapped_pvalues)),\n",
    "    \"{:.4f}\".format(np.mean(bootstrapped_coefs)),\n",
    "    \"{:.4f}\".format(np.mean(bootstrapped_coefs_intercept)),\n",
    "    \"{:.4f}\".format(np.mean(bootstrapped_confIntlow)),\n",
    "    \"{:.4f}\".format(np.mean(bootstrapped_confInthigh))\n",
    "]\n",
    "\n",
    "\n",
    "table.add_row(row2)\n",
    "\n",
    "# Print the table\n",
    "print(table)"
   ]
  },
  {
   "cell_type": "code",
   "execution_count": null,
   "id": "c96b0b45",
   "metadata": {},
   "outputs": [],
   "source": [
    "# plot the boostrapping distribution of coef values, including 95% CIs and the empirical value\n",
    "\n",
    "fig, ax = plt.subplots()\n",
    "\n",
    "ax.hist(bootstrapped_coefs, bins = 25, color = '#ADD9E4')\n",
    "\n",
    "#ax.set_title('Bootstrap Distribution Coefs')\n",
    "\n",
    "ax.set_xlabel('coefficient')\n",
    "\n",
    "ax.set_ylabel('frequency')\n",
    "\n",
    "ax.axvline(model2.params[-2], color = 'red')\n",
    "ax.axvline(np.percentile(bootstrapped_coefs, 2.5), color = 'black', linestyle = '--')\n",
    "ax.axvline(np.percentile(bootstrapped_coefs, 97.5), color = 'black', linestyle = '--')"
   ]
  },
  {
   "cell_type": "code",
   "execution_count": null,
   "id": "0c36eb38",
   "metadata": {},
   "outputs": [],
   "source": [
    "# plot the boostrapping distribution of coef values, including 95% CIs and the empirical value\n",
    "\n",
    "fig, ax = plt.subplots()\n",
    "\n",
    "ax.hist(bootstrapped_tvalues, bins = 30, color = '#ADD9E4')\n",
    "\n",
    "#ax.set_title('Bootstrap Distribution Coefs')\n",
    "\n",
    "ax.set_xlabel('t-value')\n",
    "\n",
    "ax.set_ylabel('frequency')\n",
    "\n",
    "ax.axvline(model2.tvalues[-2], color = 'red')\n",
    "ax.axvline(np.percentile(bootstrapped_tvalues, 2.5), color = 'black', linestyle = '--')\n",
    "ax.axvline(np.percentile(bootstrapped_tvalues, 97.5), color = 'black', linestyle = '--')\n",
    "\n",
    "#plt.savefig(plotdir + 'BootstrappedTvalues.png', dpi = 1000)"
   ]
  },
  {
   "cell_type": "code",
   "execution_count": null,
   "id": "cf8633e1",
   "metadata": {},
   "outputs": [],
   "source": [
    "X = BAGandMenDummiesPost[['ProbsPostresidAgeScanner', 'BAGresidAgeScanner']]\n",
    "y = BAGandMenDummiesPost['pds_f6_y']\n",
    "\n",
    "X = sm.add_constant(X)\n",
    "\n",
    "model = sm.OLS(y,X)\n",
    "results = model.fit()\n",
    "\n",
    "print(results.summary())"
   ]
  },
  {
   "cell_type": "code",
   "execution_count": null,
   "id": "5a75aff9",
   "metadata": {},
   "outputs": [],
   "source": [
    "pdsProbsPostBAG = 'pds_f6_y ~ BAGresidAgeScanner + ProbsPostresidAgeScanner'\n",
    "\n",
    "model5 = smf.ols(formula=pdsProbsPostBAG, data=BAGandMenDummiesPost).fit()"
   ]
  },
  {
   "cell_type": "code",
   "execution_count": null,
   "id": "b6ea0f75",
   "metadata": {},
   "outputs": [],
   "source": [
    "summary5 = model5.summary()"
   ]
  },
  {
   "cell_type": "code",
   "execution_count": null,
   "id": "c33c5704",
   "metadata": {
    "scrolled": false
   },
   "outputs": [],
   "source": [
    "print(pdsProbsPostBAG)\n",
    "print(int(model5.nobs))\n",
    "print('R2: ', model5.rsquared)#\n",
    "print(model5.df_model, model5.df_resid)\n",
    "print(summary5.tables[1])"
   ]
  },
  {
   "cell_type": "code",
   "execution_count": null,
   "id": "f35bffe3",
   "metadata": {},
   "outputs": [],
   "source": [
    "hist = sns.histplot(BAGandMenarche['BAG'])\n",
    "hist.set_xlabel('BAG')\n",
    "hist.set_title('Brain Age Gap Distribution in ABCD Menarche Subjects')\n",
    "#plt.savefig('BAGhistFemaleModel.png', dpi = 1000)"
   ]
  },
  {
   "cell_type": "code",
   "execution_count": null,
   "id": "86a95f0e",
   "metadata": {},
   "outputs": [],
   "source": [
    "ax = sns.regplot(x = BAGandMenarche['prob post'], y = BAGandMenarche['BAG_resids']/12)\n",
    "#plt.savefig('RegplotBAGresidsMenarche_Mixed.png', dpi = 1000)"
   ]
  },
  {
   "cell_type": "code",
   "execution_count": null,
   "id": "f76c9989",
   "metadata": {},
   "outputs": [],
   "source": [
    "dummies = BAGandMenDummiesPost.filter(regex=\".*mri_info_deviceserialnumber.*\").columns.to_list()\n",
    "additionalcolumns = ['BAG_resids','age', 'pds_f6_y']\n",
    "dummies.extend(additionalcolumns)"
   ]
  },
  {
   "cell_type": "code",
   "execution_count": null,
   "id": "a0ab4537",
   "metadata": {},
   "outputs": [],
   "source": [
    "ax = sns.regplot(x = BAGandMenDummiesPost['pds_f6_y'], y = BAGandMenDummiesPost['ProbsPostresidAgeScanner'], x_ci='ci', x_jitter = 0.2,\n",
    "            scatter=True, fit_reg=True, ci=95, line_kws={'color': '#eb0735'})\n",
    "\n",
    "ax.set_xlabel('Age at Menarche')\n",
    "ax.set_ylabel('Menarche Classprobabilities controlled \\n for Age and Scanner')\n",
    "#plt.savefig('RegplotAgeMenarcheClassprobs_Female.png', dpi = 1000)"
   ]
  },
  {
   "cell_type": "markdown",
   "id": "441725ea",
   "metadata": {},
   "source": [
    "# Include puberty categories in the analysis"
   ]
  },
  {
   "cell_type": "code",
   "execution_count": null,
   "id": "495c6bd8",
   "metadata": {},
   "outputs": [],
   "source": [
    "pubcats = pd.read_csv('C:\\\\Users\\\\ninag\\\\Documents\\\\MasterarbeitPaper\\\\Paper\\\\processedData\\\\PubertyCats.csv')"
   ]
  },
  {
   "cell_type": "code",
   "execution_count": null,
   "id": "b6d64356",
   "metadata": {},
   "outputs": [],
   "source": [
    "pubcatsCaregiver = pd.read_csv('C:\\\\Users\\\\ninag\\\\Documents\\\\MasterarbeitPaper\\\\Paper\\\\processedData\\\\PubertyCatsCaregiver.csv')"
   ]
  },
  {
   "cell_type": "code",
   "execution_count": null,
   "id": "7cb25fa8",
   "metadata": {},
   "outputs": [],
   "source": [
    "pubcatsTest = pubcats[pubcats['subjectkey'].isin(BAGandMenDummies['subjectkey'])]"
   ]
  },
  {
   "cell_type": "code",
   "execution_count": null,
   "id": "7e4821e8",
   "metadata": {},
   "outputs": [],
   "source": [
    "pubcatsTestCaregiver = pubcatsCaregiver[pubcatsCaregiver['subjectkey'].isin(BAGandMenDummies['subjectkey'])]"
   ]
  },
  {
   "cell_type": "code",
   "execution_count": null,
   "id": "80acf661",
   "metadata": {},
   "outputs": [],
   "source": [
    "pubcatT = pubcatsTest[['subjectkey', 'gonadal', 'adrenal', 'PDS_mean', 'PDS_cat_score', 'PDS_category']].copy()"
   ]
  },
  {
   "cell_type": "code",
   "execution_count": null,
   "id": "b0d94bb2",
   "metadata": {},
   "outputs": [],
   "source": [
    "pubcatTC = pubcatsTestCaregiver[['subjectkey', 'gonadal', 'adrenal', 'PDS_mean', 'PDS_cat_score', 'PDS_category']].copy()"
   ]
  },
  {
   "cell_type": "code",
   "execution_count": null,
   "id": "3c9ad4e9",
   "metadata": {},
   "outputs": [],
   "source": [
    "pubcatTC.rename(columns = {'gonadal' : 'gonadalC', 'adrenal' : 'adrenalC', 'PDS_mean' : 'PDS_meanC', \n",
    "                           'PDS_cat_score' : 'PDS_cat_scoreC', 'PDS_category' : 'PDS_categoryC'}, inplace = True)"
   ]
  },
  {
   "cell_type": "code",
   "execution_count": null,
   "id": "7b2fe778",
   "metadata": {},
   "outputs": [],
   "source": [
    "MenPubBAG = BAGandMenDummiesExtended.merge(pubcatT.merge(pubcatTC, on = 'subjectkey', how = 'outer'),\n",
    "                                                         on = 'subjectkey', how = 'outer')"
   ]
  },
  {
   "cell_type": "code",
   "execution_count": null,
   "id": "552c93f4",
   "metadata": {},
   "outputs": [],
   "source": [
    "def switch_case(pubcat):\n",
    "    if pubcat == '':\n",
    "        return None\n",
    "    elif pubcat == 'prepubertal':\n",
    "        return 1\n",
    "    elif pubcat == 'early pubertal':\n",
    "        return 2\n",
    "    elif pubcat == 'midpubertal':\n",
    "        return 3\n",
    "    elif pubcat == 'late pubertal':\n",
    "        return 4\n",
    "    elif pubcat == 'postpubertal':\n",
    "        return 5\n",
    "    else:\n",
    "        return None\n",
    "    "
   ]
  },
  {
   "cell_type": "code",
   "execution_count": null,
   "id": "c8493ecc",
   "metadata": {},
   "outputs": [],
   "source": [
    "# Apply the function to create 'Status' column\n",
    "MenPubBAG['PDS_category_num'] = MenPubBAG['PDS_category'].apply(switch_case)\n",
    "MenPubBAG['PDS_category_numC'] = MenPubBAG['PDS_categoryC'].apply(switch_case)\n",
    "\n",
    "MenPubBAG.head()"
   ]
  },
  {
   "cell_type": "code",
   "execution_count": null,
   "id": "77f8cdf3",
   "metadata": {
    "scrolled": true
   },
   "outputs": [],
   "source": [
    "print(MenPubBAG.isna().sum().to_string())"
   ]
  },
  {
   "cell_type": "code",
   "execution_count": null,
   "id": "af0ee17a",
   "metadata": {},
   "outputs": [],
   "source": [
    "pubcatsBAG2 = 'BAG ~ PDS_category_num + age + C(scanner)'\n",
    "\n",
    "model51 = smf.ols(formula=pubcatsBAG2, data=MenPubBAG, missing = 'drop').fit()"
   ]
  },
  {
   "cell_type": "code",
   "execution_count": null,
   "id": "a4c06434",
   "metadata": {},
   "outputs": [],
   "source": [
    "summary51 = model51.summary()"
   ]
  },
  {
   "cell_type": "code",
   "execution_count": null,
   "id": "6d886386",
   "metadata": {
    "scrolled": false
   },
   "outputs": [],
   "source": [
    "print(pubcatsBAG2)\n",
    "print(int(model51.nobs))\n",
    "print('R2: ', model51.rsquared)#\n",
    "print(summary51.tables[1])"
   ]
  },
  {
   "cell_type": "code",
   "execution_count": null,
   "id": "ac5744fe",
   "metadata": {},
   "outputs": [],
   "source": [
    "pubcatsBAGProbs_C = 'PDS_category_numC ~ BAGresidAgeScanner + ProbsPostresidAgeScanner'\n",
    "\n",
    "model101 = smf.ols(formula=pubcatsBAGProbs_C, data=MenPubBAG, missing = 'drop').fit()"
   ]
  },
  {
   "cell_type": "code",
   "execution_count": null,
   "id": "9e07ffac",
   "metadata": {},
   "outputs": [],
   "source": [
    "summary101 = model101.summary()"
   ]
  },
  {
   "cell_type": "code",
   "execution_count": null,
   "id": "0d8c3fd8",
   "metadata": {
    "scrolled": false
   },
   "outputs": [],
   "source": [
    "print(pubcatsBAGProbs_C)\n",
    "print(int(model101.nobs))\n",
    "print('R2: ', model101.rsquared)#\n",
    "print(summary101.tables[1])"
   ]
  },
  {
   "cell_type": "code",
   "execution_count": null,
   "id": "6181fb16",
   "metadata": {},
   "outputs": [],
   "source": [
    "pubcatsBAGProbs_Y = 'PDS_category_num ~ BAGresidAgeScanner + ProbsPostresidAgeScanner'\n",
    "\n",
    "model102 = smf.ols(formula=pubcatsBAGProbs_Y, data=MenPubBAG, missing = 'drop').fit()"
   ]
  },
  {
   "cell_type": "code",
   "execution_count": null,
   "id": "05d5ab23",
   "metadata": {},
   "outputs": [],
   "source": [
    "summary102 = model102.summary()"
   ]
  },
  {
   "cell_type": "code",
   "execution_count": null,
   "id": "220e4daf",
   "metadata": {
    "scrolled": false
   },
   "outputs": [],
   "source": [
    "print(pubcatsBAGProbs_Y)\n",
    "print(int(model102.nobs))\n",
    "print('R2: ', model102.rsquared)#\n",
    "print(summary102.tables[1])"
   ]
  },
  {
   "cell_type": "code",
   "execution_count": null,
   "id": "34a8f887",
   "metadata": {},
   "outputs": [],
   "source": [
    "pubcatsBAG_C2 = 'BAG ~ PDS_category_numC + age + C(scanner)'\n",
    "\n",
    "model61 = smf.ols(formula=pubcatsBAG_C2, data=MenPubBAG, missing = 'drop').fit()"
   ]
  },
  {
   "cell_type": "code",
   "execution_count": null,
   "id": "f893b564",
   "metadata": {},
   "outputs": [],
   "source": [
    "summary61 = model61.summary()"
   ]
  },
  {
   "cell_type": "code",
   "execution_count": null,
   "id": "843b2a9b",
   "metadata": {
    "scrolled": false
   },
   "outputs": [],
   "source": [
    "print(pubcatsBAG_C2)\n",
    "print(int(model61.nobs))\n",
    "print('R2: ', model61.rsquared)\n",
    "print(summary61.tables[1])"
   ]
  },
  {
   "cell_type": "code",
   "execution_count": null,
   "id": "73265b10",
   "metadata": {},
   "outputs": [],
   "source": [
    "pubcatsProbsPost2 = 'probsPost ~ PDS_category_num + age + C(scanner)'\n",
    "\n",
    "model71 = smf.ols(formula=pubcatsProbsPost2, data=MenPubBAG, missing = 'drop').fit()"
   ]
  },
  {
   "cell_type": "code",
   "execution_count": null,
   "id": "f2e00e1c",
   "metadata": {},
   "outputs": [],
   "source": [
    "summary71 = model71.summary()"
   ]
  },
  {
   "cell_type": "code",
   "execution_count": null,
   "id": "5ad725e4",
   "metadata": {
    "scrolled": false
   },
   "outputs": [],
   "source": [
    "print(pubcatsProbsPost2)\n",
    "print(int(model71.nobs))\n",
    "print(model71.df_model, model71.df_resid)\n",
    "print('R2: ', model71.rsquared)\n",
    "print(summary71.tables[1])"
   ]
  },
  {
   "cell_type": "code",
   "execution_count": null,
   "id": "77fa7474",
   "metadata": {},
   "outputs": [],
   "source": [
    "pubcatsProbsPost2_C = 'probsPost ~ PDS_category_numC + age + C(scanner)'\n",
    "\n",
    "model81 = smf.ols(formula=pubcatsProbsPost2_C, data=MenPubBAG, missing = 'drop').fit()"
   ]
  },
  {
   "cell_type": "code",
   "execution_count": null,
   "id": "65cecfe8",
   "metadata": {},
   "outputs": [],
   "source": [
    "summary81 = model81.summary()"
   ]
  },
  {
   "cell_type": "code",
   "execution_count": null,
   "id": "b936bf02",
   "metadata": {
    "scrolled": false
   },
   "outputs": [],
   "source": [
    "print(pubcatsProbsPost2_C)\n",
    "print(int(model81.nobs))\n",
    "print('R2: ', model81.rsquared)#\n",
    "print(summary81.tables[1])"
   ]
  },
  {
   "cell_type": "code",
   "execution_count": null,
   "id": "84ae64b4",
   "metadata": {},
   "outputs": [],
   "source": [
    "MenPubBAG.rename(columns = {'pds_f6_y':'ageMenarche', 'interview_age_M1':'age','PDS_category_num':'PMDS_Youth',\n",
    "                            'PDS_category_numC':'PMDS_Caregiver'}, inplace = True)"
   ]
  },
  {
   "cell_type": "markdown",
   "id": "98ceaf38",
   "metadata": {},
   "source": [
    "# Controlling Classprobabilites by Age at Menarche Association for SES, BMI and race"
   ]
  },
  {
   "cell_type": "code",
   "execution_count": null,
   "id": "04128329",
   "metadata": {},
   "outputs": [],
   "source": [
    "ethno = pd.read_csv('C:\\\\Users\\\\ninag\\\\Documents\\\\MasterarbeitPaper\\\\Paper\\\\processedData\\\\SESBMIrace.csv')"
   ]
  },
  {
   "cell_type": "code",
   "execution_count": null,
   "id": "cf1928fc",
   "metadata": {},
   "outputs": [],
   "source": [
    "ethno_reduced = ethno[ethno['subjectkey'].isin(MenPubBAG['subjectkey'])]"
   ]
  },
  {
   "cell_type": "code",
   "execution_count": null,
   "id": "38ed56a7",
   "metadata": {},
   "outputs": [],
   "source": [
    "BAGMenEth = pd.merge(ethno_reduced, MenPubBAG, how = 'outer', on = 'subjectkey')"
   ]
  },
  {
   "cell_type": "code",
   "execution_count": null,
   "id": "0e23425a",
   "metadata": {},
   "outputs": [],
   "source": [
    "BAGMenEth.sort_values(by = 'subjectkey', inplace = True)"
   ]
  },
  {
   "cell_type": "code",
   "execution_count": null,
   "id": "7f061555",
   "metadata": {},
   "outputs": [],
   "source": [
    "BAGMenEth.reset_index(drop = True, inplace = True)"
   ]
  },
  {
   "cell_type": "code",
   "execution_count": null,
   "id": "289077b6",
   "metadata": {},
   "outputs": [],
   "source": [
    "BAGMenEth.rename(columns = {'interview_age_M1':'age'}, inplace = True)"
   ]
  },
  {
   "cell_type": "code",
   "execution_count": null,
   "id": "240d356b",
   "metadata": {},
   "outputs": [],
   "source": [
    "temp100 = 'ProbsPostresidAgeScanner ~ BAGresidAgeScanner + bmi + ses + C(ethno)'\n",
    "\n",
    "modelDemog1 = smf.ols(formula=temp100, data=BAGMenEth).fit()"
   ]
  },
  {
   "cell_type": "code",
   "execution_count": null,
   "id": "a7566fc7",
   "metadata": {},
   "outputs": [],
   "source": [
    "summary100 = modelDemog1.summary()"
   ]
  },
  {
   "cell_type": "code",
   "execution_count": null,
   "id": "ba7bb778",
   "metadata": {
    "scrolled": true
   },
   "outputs": [],
   "source": [
    "print(temp100)\n",
    "print(int(modelDemog1.nobs))\n",
    "print(modelDemog1.df_model, modelDemog1.df_resid)\n",
    "print('R2: ', modelDemog1.rsquared)#\n",
    "print(summary100.tables[1])"
   ]
  },
  {
   "cell_type": "code",
   "execution_count": null,
   "id": "ec000235",
   "metadata": {},
   "outputs": [],
   "source": [
    "BAGMenEth['ethnoTemp'] = BAGMenEth['ethno'].copy()"
   ]
  },
  {
   "cell_type": "code",
   "execution_count": null,
   "id": "f95cf8d8",
   "metadata": {},
   "outputs": [],
   "source": [
    "BAGMenEth = pd.get_dummies(BAGMenEth, columns=['ethno'], dtype = int)"
   ]
  },
  {
   "cell_type": "code",
   "execution_count": null,
   "id": "6d08fb3a",
   "metadata": {},
   "outputs": [],
   "source": [
    "dummiesRace = BAGMenEth.filter(regex=\".*ethno_.*\").columns.to_list()\n",
    "additionalcolumns = ['bmi','ses','BAGresidAgeScanner']\n",
    "dummiesRace.extend(additionalcolumns)\n",
    "\n",
    "X = BAGMenEth[dummiesRace]\n",
    "y = BAGMenEth['ProbsPostresidAgeScanner']\n",
    "\n",
    "X = sm.add_constant(X)\n",
    "\n",
    "model = sm.OLS(y,X, missing = 'drop')\n",
    "results = model.fit()\n",
    "\n",
    "print(results.summary())"
   ]
  },
  {
   "cell_type": "code",
   "execution_count": null,
   "id": "d3528540",
   "metadata": {},
   "outputs": [],
   "source": [
    "dummiesRace = BAGMenEth.filter(regex=\".*ethno_.*\").columns.to_list()\n",
    "dummies2 = BAGMenEth.filter(regex=\".*mri_info_deviceserialnumber.*\").columns.to_list()\n",
    "additionalcolumns = ['age','bmi','ses','ageMenarche']\n",
    "dummiesRace.extend(additionalcolumns)\n",
    "dummiesRace.extend(dummies2)\n",
    "\n",
    "X = BAGMenEth[dummiesRace]\n",
    "y = BAGMenEth['probsPost']\n",
    "\n",
    "X = sm.add_constant(X)\n",
    "\n",
    "model = sm.OLS(y,X, missing = 'drop')\n",
    "results = model.fit()\n",
    "\n",
    "print(results.summary())"
   ]
  },
  {
   "cell_type": "code",
   "execution_count": null,
   "id": "ce143c95",
   "metadata": {},
   "outputs": [],
   "source": [
    "dummiesRace = BAGMenEth.filter(regex=\".*ethno_.*\").columns.to_list()\n",
    "dummies2 = BAGMenEth.filter(regex=\".*mri_info_deviceserialnumber.*\").columns.to_list()\n",
    "additionalcolumns = ['age','bmi','ses','PDS_cat_score']\n",
    "dummiesRace.extend(additionalcolumns)\n",
    "dummiesRace.extend(dummies2)\n",
    "\n",
    "X = BAGMenEth[dummiesRace]\n",
    "y = BAGMenEth['probsPost']\n",
    "\n",
    "X = sm.add_constant(X)\n",
    "\n",
    "model = sm.OLS(y,X, missing = 'drop')\n",
    "results = model.fit()\n",
    "\n",
    "print(results.summary())"
   ]
  },
  {
   "cell_type": "code",
   "execution_count": null,
   "id": "b5d3f98a",
   "metadata": {},
   "outputs": [],
   "source": [
    "dummiesRace = BAGMenEth.filter(regex=\".*ethno_.*\").columns.to_list()\n",
    "dummies2 = BAGMenEth.filter(regex=\".*mri_info_deviceserialnumber.*\").columns.to_list()\n",
    "additionalcolumns = ['age','bmi','ses','PDS_cat_scoreC']\n",
    "dummiesRace.extend(additionalcolumns)\n",
    "dummiesRace.extend(dummies2)\n",
    "\n",
    "X = BAGMenEth[dummiesRace]\n",
    "y = BAGMenEth['probsPost']\n",
    "\n",
    "X = sm.add_constant(X)\n",
    "\n",
    "model = sm.OLS(y,X, missing = 'drop')\n",
    "results = model.fit()\n",
    "\n",
    "print(results.summary())"
   ]
  },
  {
   "cell_type": "code",
   "execution_count": null,
   "id": "160347a5",
   "metadata": {},
   "outputs": [],
   "source": [
    "temp102 = 'probsPost ~ ageMenarche + age + bmi + ses + C(ethnoTemp) + C(scanner)'\n",
    "\n",
    "modelDemog2 = smf.ols(formula=temp102, data=BAGMenEth, missing = 'drop').fit()"
   ]
  },
  {
   "cell_type": "code",
   "execution_count": null,
   "id": "ff8df554",
   "metadata": {},
   "outputs": [],
   "source": [
    "summary102 = modelDemog2.summary()"
   ]
  },
  {
   "cell_type": "code",
   "execution_count": null,
   "id": "e482d6d2",
   "metadata": {
    "scrolled": false
   },
   "outputs": [],
   "source": [
    "print(temp102)\n",
    "print(int(modelDemog2.nobs))\n",
    "print(modelDemog2.df_model, modelDemog2.df_resid)\n",
    "print('R2: ', modelDemog2.rsquared)#\n",
    "print(summary102.tables[1])"
   ]
  },
  {
   "cell_type": "code",
   "execution_count": null,
   "id": "f36559c7",
   "metadata": {},
   "outputs": [],
   "source": [
    "temp103 = 'probsPost ~ PDS_cat_score + age + bmi + ses + C(ethnoTemp) + C(scanner)'\n",
    "\n",
    "modelDemog3 = smf.ols(formula=temp103, data=BAGMenEth, missing = 'drop').fit()"
   ]
  },
  {
   "cell_type": "code",
   "execution_count": null,
   "id": "c618c15c",
   "metadata": {},
   "outputs": [],
   "source": [
    "summary103 = modelDemog3.summary()"
   ]
  },
  {
   "cell_type": "code",
   "execution_count": null,
   "id": "43329c6e",
   "metadata": {
    "scrolled": false
   },
   "outputs": [],
   "source": [
    "print(temp103)\n",
    "print(int(modelDemog3.nobs))\n",
    "print(modelDemog3.df_model, modelDemog3.df_resid)\n",
    "print('R2: ', modelDemog3.rsquared)#\n",
    "print(summary103.tables[1])"
   ]
  },
  {
   "cell_type": "code",
   "execution_count": null,
   "id": "739ad579",
   "metadata": {},
   "outputs": [],
   "source": [
    "temp103 = 'probsPost ~ PDS_cat_scoreC + age + bmi + ses + C(ethnoTemp) + C(scanner)'\n",
    "\n",
    "modelDemog3 = smf.ols(formula=temp103, data=BAGMenEth, missing = 'drop').fit()"
   ]
  },
  {
   "cell_type": "code",
   "execution_count": null,
   "id": "a090a531",
   "metadata": {},
   "outputs": [],
   "source": [
    "summary103 = modelDemog3.summary()"
   ]
  },
  {
   "cell_type": "code",
   "execution_count": null,
   "id": "92a71cdf",
   "metadata": {
    "scrolled": false
   },
   "outputs": [],
   "source": [
    "print(temp103)\n",
    "print(int(modelDemog3.nobs))\n",
    "print(modelDemog3.df_model, modelDemog3.df_resid)\n",
    "print('R2: ', modelDemog3.rsquared)#\n",
    "print(summary103.tables[1])"
   ]
  },
  {
   "cell_type": "markdown",
   "id": "954d7841",
   "metadata": {},
   "source": [
    "# Plots"
   ]
  },
  {
   "cell_type": "code",
   "execution_count": null,
   "id": "668f825b",
   "metadata": {},
   "outputs": [],
   "source": [
    "fig, (ax1,ax2) = plt.subplots(1,2, figsize = [11,5], constrained_layout = True)\n",
    "#fig.tight_layout(pad = 2.1)\n",
    "plt.subplots_adjust(wspace = 0.3, bottom = 0.2)\n",
    "\n",
    "x1 = BAGandMenDummies['age']/12\n",
    "y1 = BAGandMenDummies['predictedAge']/12\n",
    "\n",
    "x2 = BAGandMenDummies['ProbsPostresidAgeScanner']\n",
    "y2 = BAGandMenDummies['BAGresidAgeScanner']\n",
    "\n",
    "\n",
    "sns.regplot(x = x1, y = y1, ax = ax1,\n",
    "#     data=combined_noOutliers[combined_noOutliers['actual_cat'] == 'pre'], \n",
    "#                 x='probsPost', y='P1', x_ci='ci', scatter=True,\n",
    "#                 fit_reg=True, ci=95, n_boot=1000, seed=100, truncate=True,\n",
    "                 scatter_kws={'color': '#469B8A', 'alpha': 1, 's': 15}, line_kws={'color': '#B0324C','linewidth': 3})\n",
    "\n",
    "#axes_range = [8.5, 13.5] \n",
    "#plt.xlim(axes_range)\n",
    "#plt.ylim(axes_range)\n",
    "#ax2.set_aspect('equal', adjustable='box')\n",
    "ax1.text(10.6, 13.7, \"a)\", fontsize=15)\n",
    "ax1.set_xlabel('Age')\n",
    "ax1.set_ylabel('Predicted Age')\n",
    "\n",
    "\n",
    "sns.regplot(x = x2, y = y2, ax = ax2,\n",
    "#     data=combined_noOutliers[combined_noOutliers['actual_cat'] == 'pre'], \n",
    "#                 x='probsPost', y='P1', x_ci='ci', scatter=True,\n",
    "#                 fit_reg=True, ci=95, n_boot=1000, seed=100, truncate=True,\n",
    "                 scatter_kws={'color': '#469B8A', 'alpha': 1, 's': 15}, line_kws={'color': '#B0324C','linewidth': 3})\n",
    "\n",
    "#ax1.set_aspect('equal', adjustable='box')\n",
    "ax2.text(-0.65, 27, \"b)\", fontsize=15)\n",
    "ax2.set_xlabel('Class Probabilities \\n (residualised for age & scanner)')\n",
    "ax2.set_ylabel('BAGs \\n (residualised for age & scanner)')\n",
    "\n",
    "plt.savefig('C:\\\\Users\\\\ninag\\\\Documents\\\\MasterarbeitPaper\\\\Paper\\\\Plots\\\\Figure3.png', dpi = 1000)"
   ]
  },
  {
   "cell_type": "code",
   "execution_count": null,
   "id": "ac2d20ba",
   "metadata": {},
   "outputs": [],
   "source": [
    "fig = plt.figure(constrained_layout=True, figsize = (13,12))\n",
    "#fig3.tight_layout(pad = 5)\n",
    "\n",
    "\n",
    "gs = fig.add_gridspec(2, 2)#, width_ratios = [1,1], height_ratios = [1,1])\n",
    "#plt.subplots_adjust(wspace=None, hspace=0.1)\n",
    "\n",
    "\n",
    "ax3 = fig.add_subplot(gs[0, :])\n",
    "\n",
    "dens = sns.kdeplot(\n",
    "   data=BAGandMenDummies, x=\"probsPost\", hue=\"Actual\",\n",
    "   cut = 0.2, fill=True, multiple = 'layer', palette=\"rocket\",\n",
    "   alpha=0.4, linewidth=3, hue_order=[1,0], ax=ax3,\n",
    "    legend = False\n",
    ")\n",
    "\n",
    "ax3.set_xlabel('Class probabilities - menarche')\n",
    "#ax3.set_xlabel('Classprobabilites of \\'Post Menarche\\' Classification')\n",
    "ax3.legend(title = 'Menarche',labels = ['pre','post'], loc = 'upper center')\n",
    "ax3.text(-0.06, 0.9, \"a)\", fontsize=17)\n",
    "\n",
    "\n",
    "\n",
    "ax1 = fig.add_subplot(gs[1, 0])\n",
    "\n",
    "sns.regplot(x = BAGandMenDummiesPost['pds_f6_y'], y = BAGandMenDummiesPost['ProbsPostresidAgeScanner'], x_ci='ci', x_jitter = 0.2,\n",
    "            scatter=True, fit_reg=True, ci=95, scatter_kws = {'color': '#A9638D', 'alpha': 1},\n",
    "            line_kws={'color': '#C74255', 'linewidth':3}, ax = ax1)\n",
    "\n",
    "ax1.set_xlabel('Age at menarche')\n",
    "ax1.set_ylabel('Class probabilities \\n (age + scanner residualised)')#controlled \\n for Age and Scanner')\n",
    "ax1.text(6.67, 0.63, \"b)\", fontsize=17)\n",
    "\n",
    "\n",
    "ax2 = fig.add_subplot(gs[1, 1])\n",
    "\n",
    "sns.violinplot(x = MenPubBAG['PMDS_Youth'], y = BAGandMenDummies['ProbsPostresidAgeScanner'], \n",
    "               palette = 'rocket_r', ax = ax2, violinprops=dict(alpha=.5))\n",
    "plt.setp(ax2.collections, alpha=.8)\n",
    "\n",
    "ax2.set_xlabel('Pubertal status')\n",
    "ax2.set_ylabel('Class probabilities \\n (age + scanner residualised)')#controlled \\n for Age and Scanner')\n",
    "#ax2.set_xticks([1,2,3,4,5])\n",
    "ax2.set_xticklabels(['prepubertal', 'early pubertal', 'midpubertal','late pubertal', 'postpubertal'], \n",
    "                    fontsize = 15, rotation = 45)\n",
    "ax2.text(-0.56, 1, \"c)\", fontsize=17)\n",
    "\n",
    "\n",
    "\n",
    "#plt.savefig('Plots\\\\SuplotsKDEaAgeatMenPubCatViolinSwitched1902.pdf', dpi = 1000)\n",
    "plt.savefig('Plots\\\\Figure2.pdf', dpi = 1000)"
   ]
  }
 ],
 "metadata": {
  "kernelspec": {
   "display_name": "Python 3 (ipykernel)",
   "language": "python",
   "name": "python3"
  },
  "language_info": {
   "codemirror_mode": {
    "name": "ipython",
    "version": 3
   },
   "file_extension": ".py",
   "mimetype": "text/x-python",
   "name": "python",
   "nbconvert_exporter": "python",
   "pygments_lexer": "ipython3",
   "version": "3.11.5"
  }
 },
 "nbformat": 4,
 "nbformat_minor": 5
}
