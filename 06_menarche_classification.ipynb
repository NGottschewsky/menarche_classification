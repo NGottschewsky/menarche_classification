{
 "cells": [
  {
   "cell_type": "code",
   "execution_count": null,
   "id": "1eef0e5e",
   "metadata": {},
   "outputs": [],
   "source": [
    "import pandas as pd\n",
    "import numpy as np\n",
    "from numpy import mean\n",
    "from numpy import std\n",
    "from matplotlib import pyplot as plt\n",
    "import seaborn as sns\n",
    "import os\n",
    "\n",
    "import sklearn\n",
    "from sklearn.preprocessing import StandardScaler, LabelEncoder\n",
    "from sklearn.model_selection import train_test_split\n",
    "from sklearn.model_selection import GridSearchCV\n",
    "from sklearn.metrics import confusion_matrix\n",
    "from sklearn.metrics import balanced_accuracy_score\n",
    "from sklearn.metrics import accuracy_score\n",
    "from sklearn.metrics import roc_curve\n",
    "from sklearn.discriminant_analysis import LinearDiscriminantAnalysis\n",
    "from sklearn.model_selection import cross_val_score\n",
    "from sklearn.model_selection import RepeatedStratifiedKFold\n",
    "from sklearn.model_selection import StratifiedKFold\n",
    "from sklearn.model_selection import permutation_test_score"
   ]
  },
  {
   "cell_type": "code",
   "execution_count": null,
   "id": "e190e6bf",
   "metadata": {},
   "outputs": [],
   "source": [
    "sns.set_style('whitegrid')\n",
    "sns.set_context('paper', font_scale=1.5)\n",
    "\n",
    "mypalettePink = ['#f78f8f','#a83246']\n",
    "mypaletteBlue = sns.color_palette(['#C2F3F2','#1D9694'], as_cmap = True)"
   ]
  },
  {
   "cell_type": "code",
   "execution_count": null,
   "id": "47986ce8",
   "metadata": {},
   "outputs": [],
   "source": [
    "os.chdir('processedData\\\\')"
   ]
  },
  {
   "cell_type": "code",
   "execution_count": null,
   "id": "ea2b5688",
   "metadata": {},
   "outputs": [],
   "source": [
    "plotdir = '..\\\\Plots\\\\'"
   ]
  },
  {
   "cell_type": "code",
   "execution_count": null,
   "id": "bbf8d031",
   "metadata": {},
   "outputs": [],
   "source": [
    "sns.set_style({'axes.facecolor': 'white',\n",
    " 'axes.edgecolor': '.15',\n",
    " 'axes.grid': True,\n",
    " 'axes.axisbelow': True,\n",
    " 'axes.labelcolor': '.15',\n",
    " 'figure.facecolor': 'white',\n",
    " 'grid.color': '.8',\n",
    " 'grid.linestyle': '-',\n",
    " 'text.color': '.15',\n",
    " 'xtick.color': '.15',\n",
    " 'ytick.color': '.15',\n",
    " 'xtick.direction': 'out',\n",
    " 'ytick.direction': 'out',\n",
    " 'lines.solid_capstyle': 'projecting',\n",
    " 'patch.edgecolor': 'w',\n",
    " 'patch.force_edgecolor': True,\n",
    " 'image.cmap': 'rocket',\n",
    " 'font.family': ['sans-serif'],\n",
    " 'font.sans-serif': ['Arial',\n",
    "  'DejaVu Sans',\n",
    "  'Liberation Sans',\n",
    "  'Bitstream Vera Sans',\n",
    "  'sans-serif'],\n",
    " 'xtick.bottom': False,\n",
    " 'xtick.top': False,\n",
    " 'ytick.left': False,\n",
    " 'ytick.right': False,\n",
    " 'axes.spines.left': True,\n",
    " 'axes.spines.bottom': True,\n",
    " 'axes.spines.right': True,\n",
    " 'axes.spines.top': True})"
   ]
  },
  {
   "cell_type": "code",
   "execution_count": null,
   "id": "830a5481",
   "metadata": {},
   "outputs": [],
   "source": [
    "sns.set_context({'font.size': 15.0,\n",
    " 'axes.labelsize': 'medium',\n",
    " 'axes.titlesize': 'large',\n",
    " 'xtick.labelsize': 'medium',\n",
    " 'ytick.labelsize': 'medium',\n",
    " 'legend.fontsize': 'medium',\n",
    " 'legend.title_fontsize': None,\n",
    " 'axes.linewidth': 0.8,\n",
    " 'grid.linewidth': 0.8,\n",
    " 'lines.linewidth': 1.5,\n",
    " 'lines.markersize': 6.0,\n",
    " 'patch.linewidth': 1.0,\n",
    " 'xtick.major.width': 0.8,\n",
    " 'ytick.major.width': 0.8,\n",
    " 'xtick.minor.width': 0.6,\n",
    " 'ytick.minor.width': 0.6,\n",
    " 'xtick.major.size': 3.5,\n",
    " 'ytick.major.size': 3.5,\n",
    " 'xtick.minor.size': 2.0,\n",
    " 'ytick.minor.size': 2.0})"
   ]
  },
  {
   "cell_type": "markdown",
   "id": "2825cd5f",
   "metadata": {},
   "source": [
    "# 1. Model Training"
   ]
  },
  {
   "cell_type": "code",
   "execution_count": null,
   "id": "a1b5377f",
   "metadata": {},
   "outputs": [],
   "source": [
    "## Load reduced dataset, i.e. redundant data such as means and totals are removed, \n",
    "## that has been harmonized for scan site and matched for Age and Scanner\n",
    "Train = pd.read_csv('TrainAgePredFeaturesHarmonised.csv')\n",
    "Train.sort_values(by = 'subjectkey', inplace=True)\n",
    "## Dataframe containing demographic data\n",
    "pds = pd.read_csv('menarcheTrain_harm_red_matchedAgeScannerONLYSMRI.csv')\n",
    "pds.sort_values(by = 'subjectkey', inplace=True)\n",
    "## extract menarche variable\n",
    "pds = pds[['subjectkey','pds_f5_y_P']]\n",
    "## add menarche variable to training feature dataframe\n",
    "Train = Train.merge(pds, how = 'outer', on = 'subjectkey') "
   ]
  },
  {
   "cell_type": "code",
   "execution_count": null,
   "id": "55186ec9",
   "metadata": {
    "scrolled": true
   },
   "outputs": [],
   "source": [
    "## drop every column from X that isn't MRI data\n",
    "X_TrainPred = Train.drop(columns=['subjectkey','pds_f5_y_P'])\n",
    "## menarche data (1=pre, 4=post) as labels\n",
    "y_Train = Train['pds_f5_y_P']"
   ]
  },
  {
   "cell_type": "code",
   "execution_count": null,
   "id": "e03d53dd",
   "metadata": {},
   "outputs": [],
   "source": [
    "## Preprocess the dataset: Standardize by removing mean and scaling to unit variance\n",
    "sc = StandardScaler()\n",
    "X = sc.fit_transform(X_TrainPred)\n",
    "## Encode target labels with value between 0 and n_classes-1\n",
    "le = LabelEncoder()\n",
    "Y = le.fit_transform(y_Train)"
   ]
  },
  {
   "cell_type": "code",
   "execution_count": null,
   "id": "8ddd90a6",
   "metadata": {
    "scrolled": true
   },
   "outputs": [],
   "source": [
    "## Perform grid search to optimise the parameters for an LDA model\n",
    "model = LinearDiscriminantAnalysis(n_components=1)\n",
    "\n",
    "## perform nested stratified 10-fold crossvalidation\n",
    "inner_cv = StratifiedKFold(n_splits=10)\n",
    "outer_cv = StratifiedKFold(n_splits=10)\n",
    "\n",
    "## do a search over all possible sovers and over the shrinkage options none, and fixed shrinkage parameters \n",
    "## within the possible range of 0 to 1 in increments of 0.1\n",
    "grid_vals = {'solver': ['svd','lsqr','eigen'], 'shrinkage': [None,'auto',0,0.1,0.2,0.3,0.4,0.5,0.6,0.7,0.8,0.9,1]}\n",
    "\n",
    "grid_lr_balanced = GridSearchCV(estimator=model, param_grid=grid_vals, scoring='balanced_accuracy', \n",
    "                       cv=inner_cv, refit=True, return_train_score=True,verbose=3) \n",
    "\n",
    "## crossvalidate the performance of the model\n",
    "nested_score_balanced = cross_val_score(grid_lr_balanced, X=X, y=Y, cv=outer_cv)\n",
    "\n",
    "## fit model to complete training features\n",
    "grid_lr_balanced.fit(X, Y)\n",
    "mymodel_balanced = grid_lr_balanced.best_estimator_"
   ]
  },
  {
   "cell_type": "code",
   "execution_count": null,
   "id": "ae9f89a2",
   "metadata": {},
   "outputs": [],
   "source": [
    "print('CV scores: \\n', nested_score_balanced)\n",
    "print('CV mean: \\n', mean(nested_score_balanced))"
   ]
  },
  {
   "cell_type": "markdown",
   "id": "6a98b36b",
   "metadata": {},
   "source": [
    "# 2. Model validation with holdout test data"
   ]
  },
  {
   "cell_type": "code",
   "execution_count": null,
   "id": "b0bbd085",
   "metadata": {},
   "outputs": [],
   "source": [
    "## load test data\n",
    "Test = pd.read_csv('TestAgePredFeaturesHarmonised.csv')\n",
    "Test.sort_values(by='subjectkey',inplace=True)\n",
    "## remeber subjectkeys of test subjects\n",
    "holdout_subs = Test['subjectkey']"
   ]
  },
  {
   "cell_type": "code",
   "execution_count": null,
   "id": "f32a90e9",
   "metadata": {},
   "outputs": [],
   "source": [
    "## Dataframe containing demographic data\n",
    "pdstest = pd.read_csv('harmonizedTestdata_plusscannerdfONLYSMRI.csv')\n",
    "pdstest.sort_values(by='subjectkey',inplace=True)\n",
    "## extract menarche variable\n",
    "pdstest = pdstest[['subjectkey','pds_f5_y_P']]\n",
    "## add menarche variable to test feature dataframe\n",
    "Test = Test.merge(pdstest, how = 'outer', on = 'subjectkey') "
   ]
  },
  {
   "cell_type": "code",
   "execution_count": null,
   "id": "852e4f13",
   "metadata": {},
   "outputs": [],
   "source": [
    "## drop every column from X that isn't MRI data\n",
    "X_TestPred = Test.drop(columns=['subjectkey','pds_f5_y_P'])\n",
    "## menarche data (1=pre, 4=post) as labels\n",
    "y_Test = Test['pds_f5_y_P']"
   ]
  },
  {
   "cell_type": "code",
   "execution_count": null,
   "id": "631bc5a0",
   "metadata": {},
   "outputs": [],
   "source": [
    "## Preprocess the dataset: Standardize by removing mean and scaling to unit variance\n",
    "sc_h = StandardScaler()\n",
    "x_holdout = sc_h.fit_transform(X_TestPred)\n",
    "## Encode target labels with value between 0 and n_classes-1\n",
    "le_h = LabelEncoder()\n",
    "y_holdout = le_h.fit_transform(y_Test)"
   ]
  },
  {
   "cell_type": "code",
   "execution_count": null,
   "id": "2bf3b184",
   "metadata": {},
   "outputs": [],
   "source": [
    "## perform binary prediction of menarche status\n",
    "preds = mymodel_balanced.predict(x_holdout)"
   ]
  },
  {
   "cell_type": "markdown",
   "id": "3b00ad86",
   "metadata": {},
   "source": [
    "# 3. Visualising Model Performance"
   ]
  },
  {
   "cell_type": "code",
   "execution_count": null,
   "id": "2a164d2b",
   "metadata": {},
   "outputs": [],
   "source": [
    "## create confusion matrix for model performance on holdout data\n",
    "cm1 = confusion_matrix(y_holdout, preds)\n",
    "tn, fp, fn, tp = confusion_matrix(y_holdout, preds).ravel()\n",
    "print(cm1)\n",
    "cm1p = cm1.copy()\n",
    "\n",
    "# turn int to float\n",
    "cm1p = cm1p * 1.0\n",
    "\n",
    "# calculate percentages per row\n",
    "cm1p[0,] = cm1[0,] / (cm1[0,0] + cm1[0,1])\n",
    "cm1p[1,] = cm1p[1,] / (cm1p[1,0] + cm1p[1,1])\n",
    "\n",
    "# calculate accuracy score\n",
    "ac_preds = balanced_accuracy_score(y_holdout,preds)\n",
    "print(ac_preds)"
   ]
  },
  {
   "cell_type": "code",
   "execution_count": null,
   "id": "0aace61c",
   "metadata": {},
   "outputs": [],
   "source": [
    "## plot confusion matrix as heatmap\n",
    "hm = sns.heatmap(data = cm1p, cmap=mypalettePink, center=0.5 ,annot = True, linewidths = 1, \n",
    "                 linecolor = \"Black\",cbar = False, xticklabels = ['pre','post'], yticklabels = ['pre','post'], fmt = '.2%')\n",
    "\n",
    "plt.savefig(plotdir + 'confusionMatrix1102.png')"
   ]
  },
  {
   "cell_type": "code",
   "execution_count": null,
   "id": "3798dc78",
   "metadata": {},
   "outputs": [],
   "source": [
    "## extract class probabilities for further analysis\n",
    "classprobsFinal = mymodel_balanced.predict_proba(x_holdout)\n",
    "\n",
    "## create data frame of holdout subjects and their class probabilities\n",
    "classprobsdfFinal = pd.DataFrame(classprobsFinal, columns = ['prob pre', 'prob post'])\n",
    "\n",
    "## add subjectkeys of holdout subjects to df\n",
    "classprobsdfFinal['subjectkey'] = holdout_subs\n",
    "\n",
    "## add actual menacharche status to df\n",
    "classprobsdfFinal['Actual'] = y_holdout\n",
    "\n",
    "## add predicted menarche status to df\n",
    "classprobsdfFinal['Predicted'] = preds"
   ]
  },
  {
   "cell_type": "code",
   "execution_count": null,
   "id": "50e9331b",
   "metadata": {},
   "outputs": [],
   "source": [
    "## create conditions for TP, FN, FP and TN\n",
    "conditions = [\n",
    "    (classprobsdfFinal['Actual'] == 1) & (classprobsdfFinal['Predicted'] == 1),\n",
    "    (classprobsdfFinal['Actual'] == 1) & (classprobsdfFinal['Predicted'] == 0),\n",
    "    (classprobsdfFinal['Actual'] == 0) & (classprobsdfFinal['Predicted'] == 1),\n",
    "    (classprobsdfFinal['Actual'] == 0) & (classprobsdfFinal['Predicted'] == 0)\n",
    "    ]\n",
    "\n",
    "## save TP, FN, FP and TN as list in the same order as conditions above\n",
    "values = ['True Positive', 'False Negative', 'False Positive', 'True Negative']\n",
    "\n",
    "## add column to df that contains info on what type of classification(error) occured\n",
    "classprobsdfFinal['tpfptnfn'] = np.select(conditions, values)"
   ]
  },
  {
   "cell_type": "code",
   "execution_count": null,
   "id": "dec38d3d",
   "metadata": {},
   "outputs": [],
   "source": [
    "## post menarche class probabilites\n",
    "classprobsFinalPost = classprobsFinal[:,1]"
   ]
  },
  {
   "cell_type": "code",
   "execution_count": null,
   "id": "4e17b2ac",
   "metadata": {},
   "outputs": [],
   "source": [
    "## for chance level \n",
    "random_probs = [0 for _ in range(len(Y))]\n",
    "## ROC curves of performance on test data\n",
    "ns_fpr, ns_tpr, _ = roc_curve(Y, random_probs)\n",
    "ts_fpr, ts_tpr, _ = roc_curve(y_holdout, classprobsFinalPost)"
   ]
  },
  {
   "cell_type": "code",
   "execution_count": null,
   "id": "2cdb64b8",
   "metadata": {},
   "outputs": [],
   "source": [
    "## plot the roc curve for the model\n",
    "plt.plot(ns_fpr, ns_tpr, linestyle='--')\n",
    "plt.plot(ts_fpr, ts_tpr, marker = '.', color = 'Green')\n",
    "plt.xlabel('False Positive Rate')\n",
    "plt.ylabel('True Positive Rate')\n",
    "plt.show()"
   ]
  },
  {
   "cell_type": "code",
   "execution_count": null,
   "id": "334c7a60",
   "metadata": {},
   "outputs": [],
   "source": [
    "## Permutation test: Lables in the training data get shuffled and a model gets trained on the random training data\n",
    "## and is then applied to the holdout data. Resulting (random) accuracies are compared to the baseline accuracy \n",
    "## generated by training the model on non-shuffled training data and applying it to the holdout data\n",
    "\n",
    "observed_accuracyTestData = balanced_accuracy_score(y_holdout,preds)\n",
    "\n",
    "## 1000 permutations and a list to save the results\n",
    "n_permutations = 1000\n",
    "permuted_accuraciesTestData = []\n",
    "\n",
    "## Use the same parameters as in the original model\n",
    "random_model = LinearDiscriminantAnalysis(n_components=1, shrinkage=0.7, solver='lsqr')\n",
    "\n",
    "for _ in range(n_permutations):\n",
    "    ## shuffle the labels in the training data\n",
    "    shuffled_labels = np.random.permutation(Y)\n",
    "    ## train the model on random data\n",
    "    random_model.fit(X,shuffled_labels) \n",
    "    ## use the model to classify menarche status in the test data\n",
    "    predsRandom = random_model.predict(x_holdout)\n",
    "    ## calculate and append accuracies to the list\n",
    "    permuted_accuracy = balanced_accuracy_score(y_holdout, predsRandom)\n",
    "    permuted_accuraciesTestData.append(permuted_accuracy)\n",
    "\n",
    "# calculate the p-value by looking at number of models with learned randomness that performed as good or better than the\n",
    "# original model\n",
    "p_valuePermTest = (np.sum(permuted_accuraciesTestData >= observed_accuracyTestData) + 1) / (n_permutations + 1)\n",
    "print(f\"Observed Accuracy: {observed_accuracyTestData}\")\n",
    "print(mean(permuted_accuraciesTestData))\n",
    "print(f\"P-value: {p_valuePermTest}\")"
   ]
  },
  {
   "cell_type": "code",
   "execution_count": null,
   "id": "531916d9",
   "metadata": {},
   "outputs": [],
   "source": [
    "sns.set_style('whitegrid')\n",
    "sns.set_context(\"paper\", font_scale=1.5)\n",
    "fig, ax = plt.subplots()\n",
    "\n",
    "sns.histplot(permuted_accuraciesTestData, bins=20, color='#A4B7D6')\n",
    "\n",
    "ax.axvline(observed_accuracyTestData, color=\"red\")\n",
    "\n",
    "ax.set_xlim([0.1,0.9])\n",
    "\n",
    "ax.set_xlabel(\"Balanced accuracy\")\n",
    "\n",
    "#ax.set_title('Permutation Test Performed with Holdout Data', fontsize = 15)\n",
    "plt.savefig(plotdir + 'permutationTest_holdout_new1102.png')"
   ]
  },
  {
   "cell_type": "code",
   "execution_count": null,
   "id": "3323357a",
   "metadata": {},
   "outputs": [],
   "source": [
    "fig, (ax1, ax2) = plt.subplots(1,2, figsize = (11,5), constrained_layout = True)\n",
    "\n",
    "hm = sns.heatmap(data = cm1p, cmap=mypalettePink, center=0.5 ,annot = True, linewidths = 1, \n",
    "                 linecolor = \"Black\",cbar = False, xticklabels = ['pre','post'], \n",
    "                 yticklabels = ['pre','post'], fmt = '.2%', ax = ax1)\n",
    "\n",
    "ax1.text(0,-0.05,\"a)\")\n",
    "\n",
    "p1 = sns.histplot(permuted_accuraciesTestData, bins=20, color='#A4B7D6', ax = ax2)\n",
    "\n",
    "p1.axvline(observed_accuracyTestData, color=\"red\")\n",
    "\n",
    "p1.set_xlim([0.1,0.9])\n",
    "\n",
    "p1.set_xlabel(\"Balanced accuracy\")\n",
    "\n",
    "ax2.text(0.1,116,\"b)\")\n",
    "\n",
    "\n",
    "plt.savefig(plotdir + 'Figure1.png', dpi = 1000)"
   ]
  },
  {
   "cell_type": "code",
   "execution_count": null,
   "id": "0c6775bd",
   "metadata": {},
   "outputs": [],
   "source": [
    "# save dataframe\n",
    "classprobsdfFinal.to_csv('classprobabilitesDFfinal_independently_harmonizedScanMatchedAgePredFeaturesShrink071102.csv', index = False)"
   ]
  },
  {
   "cell_type": "markdown",
   "id": "a27a788c",
   "metadata": {},
   "source": [
    "# 4. Validating that unbalanced test data is valid by repeating with balanced data"
   ]
  },
  {
   "cell_type": "code",
   "execution_count": null,
   "id": "1ed807fd",
   "metadata": {},
   "outputs": [],
   "source": [
    "## drop 188 random pre-menarche subjects to balance the data\n",
    "indices_to_drop = Test[Test['pds_f5_y_P'] == 1].sample(n=188, axis='rows', random_state = 1).index\n",
    "TestBalanced = Test.drop(indices_to_drop)\n",
    "\n",
    "## remeber subjectkeys of test subjects\n",
    "holdout_subsBalanced = TestBalanced['subjectkey']\n",
    "\n",
    "## drop subjectkey\n",
    "X_TestAgePredBalanced = TestBalanced.drop(columns=['subjectkey','pds_f5_y_P'])\n",
    "\n",
    "## menarche data (1=pre, 4=post) as labels\n",
    "y_TestBalanced = TestBalanced['pds_f5_y_P']\n",
    "\n",
    "## Preprocess the dataset: Standardize by removing mean and scaling to unit variance\n",
    "sc_h = StandardScaler()\n",
    "x_holdoutBalanced = sc_h.fit_transform(X_TestAgePredBalanced)\n",
    "\n",
    "## Encode target labels with value between 0 and n_classes-1\n",
    "le_h = LabelEncoder()\n",
    "y_holdoutBalanced = le_h.fit_transform(y_TestBalanced)\n",
    "\n",
    "## perform binary prediction of menarche status\n",
    "predsBalanced = mymodel_balanced.predict(x_holdoutBalanced)"
   ]
  },
  {
   "cell_type": "code",
   "execution_count": null,
   "id": "7a011e70",
   "metadata": {},
   "outputs": [],
   "source": [
    "## create confusion matrix for model applied to balanced test data\n",
    "cm2 = confusion_matrix(y_holdoutBalanced, predsBalanced)\n",
    "print(cm2)\n",
    "cm2p = cm2.copy()\n",
    "\n",
    "## turn int to float\n",
    "cm2p = cm2p * 1.0\n",
    "\n",
    "## calculate percentages per row\n",
    "cm2p[0,] = cm2[0,] / (cm2[0,0] + cm2[0,1])\n",
    "cm2p[1,] = cm2p[1,] / (cm2p[1,0] + cm2p[1,1])\n",
    "\n",
    "## calculate accuracy score\n",
    "tn, fp, fn, tp = confusion_matrix(y_holdoutBalanced, predsBalanced).ravel()\n",
    "ac_preds2 = balanced_accuracy_score(y_holdoutBalanced,predsBalanced)\n",
    "print(ac_preds2)\n",
    "print(tn, fp, fn, tp)"
   ]
  },
  {
   "cell_type": "code",
   "execution_count": null,
   "id": "9e65a324",
   "metadata": {},
   "outputs": [],
   "source": [
    "## plot confusion matrix of model applied to balanced test data as heatmap\n",
    "hm = sns.heatmap(data = cm2p, cmap=mypaletteBlue, center=0.5 ,annot = True, linewidths = 1, \n",
    "                 linecolor = \"Black\",cbar = False, xticklabels = ['pre','post'], yticklabels = ['pre','post'], fmt = '.2%')\n",
    "plt.title('confusion matrix of model applied to balanced test data', size = 14)"
   ]
  },
  {
   "cell_type": "code",
   "execution_count": null,
   "id": "1b67d908",
   "metadata": {},
   "outputs": [],
   "source": [
    "## To avoid accidental bias when randomly dropping 188 participants, the process of balancing, training and applying\n",
    "## the model is repeated 1000 times\n",
    "n_rounds = 1000\n",
    "balanced_accuracies = []\n",
    "\n",
    "for i in range(n_rounds):\n",
    "    ## balance the sample by dropping 188 random pre-menarche subjects\n",
    "    indices_to_drop = Test[Test['pds_f5_y_P'] == 1].sample(n=188,axis='rows', random_state = i).index\n",
    "    TestBalanced = Test.drop(indices_to_drop)\n",
    "\n",
    "    ## perform the preprocessing, training and prediction\n",
    "    X_TestPredBalanced = TestBalanced.drop(columns=['subjectkey','pds_f5_y_P'])\n",
    "    y_TestBalanced = TestBalanced['pds_f5_y_P']\n",
    "\n",
    "    sc_h = StandardScaler()\n",
    "    x_holdoutBalanced = sc_h.fit_transform(X_TestPredBalanced)\n",
    "\n",
    "    le_h = LabelEncoder()\n",
    "    y_holdoutBalanced = le_h.fit_transform(y_TestBalanced)\n",
    "\n",
    "    predsBalanced = mymodel_balanced.predict(x_holdoutBalanced)\n",
    "    accs = balanced_accuracy_score(y_holdoutBalanced,predsBalanced)\n",
    "    balanced_accuracies.append(accs)\n",
    "    \n",
    "print(mean(balanced_accuracies))"
   ]
  },
  {
   "cell_type": "code",
   "execution_count": null,
   "id": "9f7aa604",
   "metadata": {},
   "outputs": [],
   "source": [
    "fig, (ax1, ax2, ax3) = plt.subplots(1,3, figsize = (21,6))\n",
    "\n",
    "hm = sns.heatmap(data = cm1p, cmap=mypalettePink, center=0.5 ,annot = True, linewidths = 1, \n",
    "                 linecolor = \"Black\",cbar = False, xticklabels = ['pre','post'], \n",
    "                 yticklabels = ['pre','post'], fmt = '.2%', ax = ax1)\n",
    "\n",
    "p1 = sns.histplot(permuted_accuraciesTestData, bins=20, color='#A4B7D6', ax = ax2)\n",
    "p1.axvline(observed_accuracyTestData, color=\"red\")\n",
    "p1.set_xlim([0.1,0.9])\n",
    "p1.set_xlabel(\"Balanced accuracy\")\n",
    "\n",
    "p2 = sns.histplot(balanced_accuracies, bins=10, color='#A4B7D6', ax = ax3)\n",
    "p2.set_xlim(0, 1)\n",
    "p2.set_xlabel(\"Balanced accuracy score - balanced test sets\")\n",
    "p2.axvline(0.5, color='red', linewidth = 0.9)\n",
    "\n",
    "#plt.savefig(plotdir + 'plot2ConfMatPerm.png', dpi = 1000)"
   ]
  },
  {
   "cell_type": "code",
   "execution_count": null,
   "id": "79ca1016",
   "metadata": {},
   "outputs": [],
   "source": [
    "max(balanced_accuracies)"
   ]
  },
  {
   "cell_type": "code",
   "execution_count": null,
   "id": "4044cc07",
   "metadata": {},
   "outputs": [],
   "source": [
    "min(balanced_accuracies)"
   ]
  },
  {
   "cell_type": "code",
   "execution_count": null,
   "id": "69cd4bed",
   "metadata": {
    "scrolled": false
   },
   "outputs": [],
   "source": [
    "# Plot a histogram of all accuracies on balanced holdout data\n",
    "sns.histplot(balanced_accuracies, bins=20, color='blue')\n",
    "\n",
    "plt.xlim(0.2, 0.8)\n",
    "plt.xlabel(\"Balanced accuracy score\")\n",
    "\n",
    "plt.axvline(0.5, color='#AC2123', linewidth = 0.5, ls = '--')\n",
    "\n",
    "plt.savefig(plotdir + '1000balanced_accuracies.pdf', dpi = 1000)"
   ]
  }
 ],
 "metadata": {
  "kernelspec": {
   "display_name": "Python 3 (ipykernel)",
   "language": "python",
   "name": "python3"
  },
  "language_info": {
   "codemirror_mode": {
    "name": "ipython",
    "version": 3
   },
   "file_extension": ".py",
   "mimetype": "text/x-python",
   "name": "python",
   "nbconvert_exporter": "python",
   "pygments_lexer": "ipython3",
   "version": "3.11.5"
  }
 },
 "nbformat": 4,
 "nbformat_minor": 5
}
