{
 "cells": [
  {
   "cell_type": "code",
   "execution_count": null,
   "id": "65780667",
   "metadata": {},
   "outputs": [],
   "source": [
    "import pandas as pd\n",
    "import numpy as np\n",
    "from matplotlib import pyplot as plt\n",
    "import seaborn as sns\n",
    "import os as os\n",
    "import sklearn\n",
    "\n",
    "from sklearn.metrics import confusion_matrix, mean_squared_error\n",
    "from sklearn.model_selection import GridSearchCV, KFold, train_test_split\n",
    "from sklearn.model_selection import cross_val_score\n",
    "from sklearn.model_selection import StratifiedKFold\n",
    "\n",
    "import xgboost as xgb"
   ]
  },
  {
   "cell_type": "code",
   "execution_count": null,
   "id": "25916e26",
   "metadata": {},
   "outputs": [],
   "source": [
    "sns.set_style({'axes.facecolor': 'white',\n",
    " 'axes.edgecolor': '.15',\n",
    " 'axes.grid': True,\n",
    " 'axes.axisbelow': True,\n",
    " 'axes.labelcolor': '.15',\n",
    " 'figure.facecolor': 'white',\n",
    " 'grid.color': '.8',\n",
    " 'grid.linestyle': '-',\n",
    " 'text.color': '.15',\n",
    " 'xtick.color': '.15',\n",
    " 'ytick.color': '.15',\n",
    " 'xtick.direction': 'out',\n",
    " 'ytick.direction': 'out',\n",
    " #'lines.solid_capstyle': <CapStyle.round: 'round'>,\n",
    " 'patch.edgecolor': 'w',\n",
    " 'patch.force_edgecolor': True,\n",
    " 'image.cmap': 'rocket',\n",
    " 'font.family': ['sans-serif'],\n",
    " 'font.sans-serif': ['Arial',\n",
    "  'DejaVu Sans',\n",
    "  'Liberation Sans',\n",
    "  'Bitstream Vera Sans',\n",
    "  'sans-serif'],\n",
    " 'xtick.bottom': False,\n",
    " 'xtick.top': False,\n",
    " 'ytick.left': False,\n",
    " 'ytick.right': False,\n",
    " 'axes.spines.left': True,\n",
    " 'axes.spines.bottom': True,\n",
    " 'axes.spines.right': True,\n",
    " 'axes.spines.top': True})\n",
    "\n",
    "sns.set_context({'font.size': 17.0,\n",
    " 'axes.labelsize': 'medium',\n",
    " 'axes.titlesize': 'large',\n",
    " 'xtick.labelsize': 'medium',\n",
    " 'ytick.labelsize': 'medium',\n",
    " 'legend.fontsize': 'medium',\n",
    " 'axes.linewidth': 0.8,\n",
    " 'grid.linewidth': 0.8,\n",
    " 'lines.linewidth': 1.5,\n",
    " 'lines.markersize': 6.0,\n",
    " 'patch.linewidth': 1.0,\n",
    " 'xtick.major.width': 0.8,\n",
    " 'ytick.major.width': 0.8,\n",
    " 'xtick.minor.width': 0.6,\n",
    " 'ytick.minor.width': 0.6,\n",
    " 'xtick.major.size': 3.5,\n",
    " 'ytick.major.size': 3.5,\n",
    " 'xtick.minor.size': 2.0,\n",
    " 'ytick.minor.size': 2.0,\n",
    " 'legend.title_fontsize': None})"
   ]
  },
  {
   "cell_type": "code",
   "execution_count": null,
   "id": "eced063d",
   "metadata": {},
   "outputs": [],
   "source": [
    "## MRI data from Philadelphia Neurodevelopmental Cohort study, training data for age prediction\n",
    "X = pd.read_csv('processedData\\\\PNCtraining.csv')\n",
    "## Create a dictionary to map the current column names to the new numeric names\n",
    "new_column_names = {col: str(i + 1) for i, col in enumerate(X.columns)}\n",
    "## Rename the columns using the dictionary\n",
    "X.rename(columns=new_column_names, inplace=True)"
   ]
  },
  {
   "cell_type": "code",
   "execution_count": null,
   "id": "f6e04e9f",
   "metadata": {},
   "outputs": [],
   "source": [
    "## Use only female subjects for age prediction model\n",
    "Xfem = X[X['235'] == 'F']"
   ]
  },
  {
   "cell_type": "code",
   "execution_count": null,
   "id": "d388f632",
   "metadata": {},
   "outputs": [],
   "source": [
    "## Load age data and reduce to female subjects\n",
    "PNClabels = pd.read_csv('processedData\\\\PNClabels.csv')\n",
    "PNClabelsFem = PNClabels[PNClabels.index.isin(Xfem.index)]"
   ]
  },
  {
   "cell_type": "code",
   "execution_count": null,
   "id": "71d82d1e",
   "metadata": {},
   "outputs": [],
   "source": [
    "## Remove sex column from MRI feature df\n",
    "Xfem.drop(columns = '235', inplace=True)\n",
    "yfem = PNClabelsFem['ageAtScan']"
   ]
  },
  {
   "cell_type": "code",
   "execution_count": null,
   "id": "2318b7f1",
   "metadata": {},
   "outputs": [],
   "source": [
    "## Create train-test-split for model training\n",
    "X_train, X_test, y_train, y_test = train_test_split(Xfem, yfem, random_state=0)"
   ]
  },
  {
   "cell_type": "code",
   "execution_count": null,
   "id": "31926386",
   "metadata": {},
   "outputs": [],
   "source": [
    "print(PNClabelsFem['ageAtScan'].max()/12)\n",
    "print(PNClabelsFem['ageAtScan'].min()/12)"
   ]
  },
  {
   "cell_type": "markdown",
   "id": "9e411021",
   "metadata": {},
   "source": [
    "## Parameter tuning with grid search"
   ]
  },
  {
   "cell_type": "code",
   "execution_count": null,
   "id": "a9b001c8",
   "metadata": {
    "scrolled": true
   },
   "outputs": [],
   "source": [
    "hyperparameter_grid = {'max_depth': [3,6,9],\n",
    "                    'max_leaves': [0,2,5,10],\n",
    "                    'subsample': [0.5],\n",
    "                    'learning_rate': [0.001,0.01,0.1,0.5,1,3],\n",
    "                    'min_child_weight': [1,10,100],\n",
    "                    'n_estimators': [100, 500, 1000]}\n",
    "\n",
    "xgb_model = xgb.XGBRegressor()\n",
    "\n",
    "clf = GridSearchCV(xgb_model, hyperparameter_grid, verbose=3, cv=5)\n",
    "\n",
    "clf.fit(X_train, y_train)\n",
    "\n",
    "print(clf.best_score_)\n",
    "print(clf.best_params_)"
   ]
  },
  {
   "cell_type": "markdown",
   "id": "c77740b5",
   "metadata": {},
   "source": [
    "## Using best parameters in model and testing it with holdout data"
   ]
  },
  {
   "cell_type": "code",
   "execution_count": null,
   "id": "33d306a1",
   "metadata": {},
   "outputs": [],
   "source": [
    "dtrain = xgb.DMatrix(X_train, label = y_train)"
   ]
  },
  {
   "cell_type": "code",
   "execution_count": null,
   "id": "aee85714",
   "metadata": {},
   "outputs": [],
   "source": [
    "dtest = xgb.DMatrix(X_test, label = y_test)"
   ]
  },
  {
   "cell_type": "code",
   "execution_count": null,
   "id": "4964c509",
   "metadata": {},
   "outputs": [],
   "source": [
    "import xgboost as xgb\n",
    "\n",
    "param = {'objective': 'reg:squarederror',\n",
    "    'booster': 'gbtree',\n",
    "    'learning_rate': 0.01,\n",
    "    'max_depth': 6,\n",
    "    'max_leaves': 0,\n",
    "    'min_child_weight': 10,\n",
    "    'subsample': 0.5,\n",
    "    'seed': 123,\n",
    "    'eval_metric': 'rmse'}\n",
    "\n",
    "num_round = 1000\n",
    "\n",
    "evallist = [(dtrain, 'train'), (dtest, 'eval')]\n",
    "\n",
    "bst = xgb.train(param, dtrain, num_round, evallist, early_stopping_rounds=10, verbose_eval=True)"
   ]
  },
  {
   "cell_type": "code",
   "execution_count": null,
   "id": "74959325",
   "metadata": {},
   "outputs": [],
   "source": [
    "bst.save_model('femaleOnly.model')"
   ]
  },
  {
   "cell_type": "code",
   "execution_count": null,
   "id": "83bdc674",
   "metadata": {},
   "outputs": [],
   "source": [
    "## Load ABCD test data that was used for menarche classification\n",
    "Test = pd.read_csv('processedData\\\\TestAgePredFeaturesHarmonised.csv')\n",
    "Test.sort_values(by='subjectkey',inplace=True)\n",
    "holdout_subs = Test['subjectkey']\n",
    "\n",
    "## Load dataframe containing demographic data\n",
    "MRIwithAgeSex = pd.read_csv('processedData\\\\processedMRIDataMenarcheSubsONLYSMRI.csv')\n",
    "## Reduce the MRI data containing sex and age data to only the relevant subjects\n",
    "MRIred = MRIwithAgeSex[MRIwithAgeSex['subjectkey'].isin(holdout_subs)] \n",
    "## Extract the info on sex and age from that dataframe\n",
    "AgeSex = MRIred[['sex_M1','interview_age_M1','subjectkey']].copy()\n",
    "\n",
    "Test = pd.merge(Test, AgeSex, how = 'outer', on = 'subjectkey')"
   ]
  },
  {
   "cell_type": "code",
   "execution_count": null,
   "id": "bd716dac",
   "metadata": {},
   "outputs": [],
   "source": [
    "## Create the age prediction features by dropping all columns that are not MRI features\n",
    "ABCD_X = Test.drop(columns = ['subjectkey', 'sex_M1', 'interview_age_M1'])\n",
    "\n",
    "## Create a dictionary to map the current column names to the new numeric names\n",
    "new_column_names = {col: str(i + 1) for i, col in enumerate(ABCD_X.columns)}\n",
    "## Rename the columns using the dictionary\n",
    "ABCD_X.rename(columns=new_column_names, inplace=True)\n",
    "\n",
    "ABCD_y = Test['interview_age_M1']\n",
    "\n",
    "dABCD = xgb.DMatrix(ABCD_X)"
   ]
  },
  {
   "cell_type": "code",
   "execution_count": null,
   "id": "e784e4c3",
   "metadata": {},
   "outputs": [],
   "source": [
    "ABCD_predictedAge = bst.predict(dABCD)"
   ]
  },
  {
   "cell_type": "code",
   "execution_count": null,
   "id": "9db66e4f",
   "metadata": {},
   "outputs": [],
   "source": [
    "## Permutation test: Labels in the training data get shuffled and a model gets trained on the random training data\n",
    "## and is then applied to the holdout data. Resulting (random) accuracies are compared to the baseline accuracy \n",
    "## generated by training the model on non-shuffled training data and applying it to the holdout data\n",
    "param = {'objective': 'reg:squarederror',\n",
    "        'booster': 'gbtree',\n",
    "        'learning_rate': 0.01,\n",
    "        'max_depth': 6,\n",
    "        'max_leaves': 0,\n",
    "        'min_child_weight': 10,\n",
    "        'subsample': 0.5,\n",
    "        'seed': 123,\n",
    "        'eval_metric': 'rmse'}\n",
    "\n",
    "from sklearn.metrics import mean_absolute_error\n",
    "from numpy import mean\n",
    "\n",
    "## Calculate empirical MAE\n",
    "observed_accuracyTestData = mean_absolute_error(ABCD_predictedAge, ABCD_y)/12\n",
    "\n",
    "## 1000 permutations and a list to save the results\n",
    "n_permutations = 100\n",
    "permuted_accuraciesTestData = []\n",
    "\n",
    "## Use the same parameters as in the original model\n",
    "for _ in range(n_permutations):\n",
    "    dtrain = xgb.DMatrix(X_train, label = np.random.permutation(y_train))\n",
    "    ## train the model on random data\n",
    "    num_round = 10\n",
    "    rand = xgb.train(param, dtrain, num_round, verbose_eval=True)\n",
    "    \n",
    "    ## use the model to classify menarche status in the test data\n",
    "    predsRandom = rand.predict(dABCD)\n",
    "    \n",
    "    ## calculate and append accuracies to the list\n",
    "    permuted_accuracy = mean_absolute_error(ABCD_y, predsRandom)/12\n",
    "    permuted_accuraciesTestData.append(permuted_accuracy)\n",
    "\n",
    "\n",
    "## calculate the p-value by looking at number of models with learned randomness that performed as good or better than the\n",
    "## original model\n",
    "p_valuePermTest = (np.sum(permuted_accuraciesTestData <= observed_accuracyTestData) + 1) / (n_permutations + 1)\n",
    "\n",
    "print(f\"Observed Accuracy: {observed_accuracyTestData}\")\n",
    "print(mean(permuted_accuraciesTestData))\n",
    "print(f\"P-value: {p_valuePermTest}\")"
   ]
  },
  {
   "cell_type": "code",
   "execution_count": null,
   "id": "a17fb8ee",
   "metadata": {},
   "outputs": [],
   "source": [
    "fig, ax = plt.subplots(constrained_layout = True)\n",
    "\n",
    "sns.histplot(permuted_accuraciesTestData, bins=15, color='#A4B7D6')\n",
    "\n",
    "ax.axvline(observed_accuracyTestData, color=\"red\")\n",
    "\n",
    "#ax.set_xlim([0.1,0.9])\n",
    "\n",
    "ax.set_xlabel(\"Mean absolute error (years)\")\n",
    "\n",
    "#ax.set_title('Permutation Test Performed with Holdout Data', fontsize = 15)\n",
    "plt.savefig('Plots\\\\permutationTest_AgePred1902.pdf', dpi = 1000)"
   ]
  },
  {
   "cell_type": "code",
   "execution_count": null,
   "id": "fbc17a82",
   "metadata": {},
   "outputs": [],
   "source": [
    "dtest = xgb.DMatrix(X_test)"
   ]
  },
  {
   "cell_type": "code",
   "execution_count": null,
   "id": "6c0f0bb1",
   "metadata": {},
   "outputs": [],
   "source": [
    "y_predict_age = bst.predict(dtest)"
   ]
  },
  {
   "cell_type": "code",
   "execution_count": null,
   "id": "13f4b69c",
   "metadata": {},
   "outputs": [],
   "source": [
    "from scipy.stats.stats import pearsonr"
   ]
  },
  {
   "cell_type": "code",
   "execution_count": null,
   "id": "c8744dc1",
   "metadata": {},
   "outputs": [],
   "source": [
    "pearsonr(y_predict_age, y_test)"
   ]
  },
  {
   "cell_type": "code",
   "execution_count": null,
   "id": "19c62b2e",
   "metadata": {},
   "outputs": [],
   "source": [
    "rmse = mean_squared_error(y_predict_age, y_test, squared=False)\n",
    "print(f\"RMSE of the base model: {rmse/12:.3f}\")"
   ]
  },
  {
   "cell_type": "code",
   "execution_count": null,
   "id": "343ad453",
   "metadata": {},
   "outputs": [],
   "source": [
    "sn = sns.regplot(x = y_test/12, y = y_predict_age/12)\n",
    "sn.set_xlabel('Age at Scan')\n",
    "sn.set_ylabel('Predicted Age')\n",
    "#plt.savefig('regplotBrainAgeFemaleModelPNC.png')"
   ]
  },
  {
   "cell_type": "code",
   "execution_count": null,
   "id": "f2da35fc",
   "metadata": {},
   "outputs": [],
   "source": [
    "BAG = y_predict_age - y_test"
   ]
  },
  {
   "cell_type": "code",
   "execution_count": null,
   "id": "9cd218d2",
   "metadata": {},
   "outputs": [],
   "source": [
    "hist = sns.histplot(BAG/12)\n",
    "hist.set_xlabel('Brain Age Gap')\n",
    "#hist.set_title('Brain Age Gap Distribution in PNC Eval Data')\n",
    "#plt.savefig('BAGhistPNC_Female.png', dpi = 1000)"
   ]
  },
  {
   "cell_type": "code",
   "execution_count": null,
   "id": "ab33a54d",
   "metadata": {
    "scrolled": false
   },
   "outputs": [],
   "source": [
    "pearsonr(ABCD_predictedAge, ABCD_y)"
   ]
  },
  {
   "cell_type": "code",
   "execution_count": null,
   "id": "720b82ce",
   "metadata": {},
   "outputs": [],
   "source": [
    "sns.regplot(x = ABCD_y, y = ABCD_predictedAge)"
   ]
  },
  {
   "cell_type": "code",
   "execution_count": null,
   "id": "e1b9dd1a",
   "metadata": {},
   "outputs": [],
   "source": [
    "rmse = mean_squared_error(ABCD_predictedAge, ABCD_y, squared=False)\n",
    "\n",
    "print(f\"RMSE of the base model: {rmse:.3f}\")"
   ]
  },
  {
   "cell_type": "code",
   "execution_count": null,
   "id": "247d30cd",
   "metadata": {},
   "outputs": [],
   "source": [
    "print(f\"RMSE of the base model: {rmse/12:.3f}\")"
   ]
  },
  {
   "cell_type": "code",
   "execution_count": null,
   "id": "39e3e580",
   "metadata": {},
   "outputs": [],
   "source": [
    "absoluteErrors = abs(ABCD_predictedAge - ABCD_y)\n",
    "\n",
    "MAE = sum(absoluteErrors)\n",
    "\n",
    "MAE = MAE/len(absoluteErrors)\n",
    "\n",
    "MAE = MAE/12\n",
    "\n",
    "MAE"
   ]
  },
  {
   "cell_type": "code",
   "execution_count": null,
   "id": "f7c43345",
   "metadata": {},
   "outputs": [],
   "source": [
    "Test['predictedAge'] = ABCD_predictedAge\n",
    "Test['BAG'] = Test['predictedAge'] - Test['interview_age_M1']"
   ]
  },
  {
   "cell_type": "code",
   "execution_count": null,
   "id": "e8044de0",
   "metadata": {},
   "outputs": [],
   "source": [
    "hist = sns.histplot(Test['BAG'])\n",
    "hist.set_xlabel('BAG')\n",
    "hist.set_title('Brain Age Gap Distribution in ABCD Menarche Subjects when sex was included as a feature')\n",
    "#plt.savefig('BAGWithSexIncludedhist.png')"
   ]
  },
  {
   "cell_type": "code",
   "execution_count": null,
   "id": "741cb0d1",
   "metadata": {},
   "outputs": [],
   "source": [
    "classprobsMenarche = pd.read_csv('processedData\\\\classprobabilitesDFfinal_independently_harmonizedScanMatchedAgePredFeaturesShrink071102.csv')"
   ]
  },
  {
   "cell_type": "code",
   "execution_count": null,
   "id": "22fcf350",
   "metadata": {},
   "outputs": [],
   "source": [
    "BAGandMenarche = classprobsMenarche.merge(Test, how = 'inner', on = 'subjectkey')\n",
    "\n",
    "sns.regplot(x = BAGandMenarche['BAG'], y = BAGandMenarche['prob post'])"
   ]
  },
  {
   "cell_type": "code",
   "execution_count": null,
   "id": "1748884c",
   "metadata": {},
   "outputs": [],
   "source": [
    "BAGandMenarche.to_csv('processedData\\\\BAGandMenarche.csv')"
   ]
  }
 ],
 "metadata": {
  "kernelspec": {
   "display_name": "Python 3 (ipykernel)",
   "language": "python",
   "name": "python3"
  },
  "language_info": {
   "codemirror_mode": {
    "name": "ipython",
    "version": 3
   },
   "file_extension": ".py",
   "mimetype": "text/x-python",
   "name": "python",
   "nbconvert_exporter": "python",
   "pygments_lexer": "ipython3",
   "version": "3.11.5"
  }
 },
 "nbformat": 4,
 "nbformat_minor": 5
}
