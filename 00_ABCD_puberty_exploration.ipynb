{
 "cells": [
  {
   "cell_type": "markdown",
   "metadata": {},
   "source": [
    "## Selection of participants for puberty classification\n",
    "\n",
    "**Input:**\n",
    "\n",
    "- ABCD pubertal development data (youth-reported) (abcd_ypdms01.txt)\n",
    "        \n",
    "**Output:**\n",
    "\n",
    "- **relevantMenarcheData2year.csv.csv:** "
   ]
  },
  {
   "cell_type": "code",
   "execution_count": null,
   "metadata": {},
   "outputs": [],
   "source": [
    "import pandas as pd\n",
    "import numpy as np\n",
    "import seaborn as sn\n",
    "from matplotlib import pyplot as plt \n",
    "import os"
   ]
  },
  {
   "cell_type": "code",
   "execution_count": null,
   "metadata": {},
   "outputs": [],
   "source": [
    "os.getcwd()\n",
    "os.chdir('ABCDTabular\\\\')\n",
    "\n",
    "abcd_y_pds = pd.read_csv('abcd_ypdms01.txt',sep='\\s+')  "
   ]
  },
  {
   "cell_type": "code",
   "execution_count": null,
   "metadata": {
    "scrolled": false
   },
   "outputs": [],
   "source": [
    "## save and delete fulltext variable names\n",
    "dicttPDS = abcd_y_pds.iloc[0]\n",
    "abcd_y_pds = abcd_y_pds.drop(0)\n",
    "dicttPDS"
   ]
  },
  {
   "cell_type": "code",
   "execution_count": null,
   "metadata": {},
   "outputs": [],
   "source": [
    "## start creating df for metainformation about sample\n",
    "meta_df = pd.DataFrame()\n",
    "meta_df['eventname'] = abcd_y_pds.eventname.unique()\n",
    "meta_df"
   ]
  },
  {
   "cell_type": "code",
   "execution_count": null,
   "metadata": {
    "scrolled": true
   },
   "outputs": [],
   "source": [
    "## count datapoints in each measurement\n",
    "datapoints = [np.count_nonzero(abcd_y_pds.eventname == \"baseline_year_1_arm_1\")]\n",
    "datapoints.append(np.count_nonzero(abcd_y_pds.eventname == \"1_year_follow_up_y_arm_1\"))\n",
    "datapoints.append(np.count_nonzero(abcd_y_pds.eventname == \"2_year_follow_up_y_arm_1\"))\n",
    "datapoints.append(np.count_nonzero(abcd_y_pds.eventname == \"3_year_follow_up_y_arm_1\"))\n",
    "meta_df['datapoints'] = datapoints"
   ]
  },
  {
   "cell_type": "code",
   "execution_count": null,
   "metadata": {},
   "outputs": [],
   "source": [
    "## get mean age at each measurement\n",
    "abcd_y_pds['interview_age'] = pd.to_numeric(abcd_y_pds['interview_age'])\n",
    "\n",
    "meanAge = abcd_y_pds.groupby('eventname').interview_age.mean().reset_index(name='meanAge')\n",
    "meanAge['meanAge'] = meanAge['meanAge']/12\n",
    "meta_df = meta_df.merge(meanAge, on = 'eventname', how = 'outer')"
   ]
  },
  {
   "cell_type": "code",
   "execution_count": null,
   "metadata": {},
   "outputs": [],
   "source": [
    "## count nr of female subjects in each measurement\n",
    "fcount = abcd_y_pds.groupby(['eventname','sex']).size().reset_index(name='female')\n",
    "fcount = fcount[fcount.sex != 'M']\n",
    "meta_df = meta_df.merge(fcount[['eventname', 'female']], on = 'eventname', how = 'outer')"
   ]
  },
  {
   "cell_type": "code",
   "execution_count": null,
   "metadata": {},
   "outputs": [],
   "source": [
    "meta_df['male'] = meta_df['datapoints'] - meta_df['female']"
   ]
  },
  {
   "cell_type": "code",
   "execution_count": null,
   "metadata": {},
   "outputs": [],
   "source": [
    "meta_df"
   ]
  },
  {
   "cell_type": "markdown",
   "metadata": {
    "heading_collapsed": true
   },
   "source": [
    "### PDS coding\n",
    "4 = Yes; 1 = No; 999 = I don't know; 777= refuse to answer "
   ]
  },
  {
   "cell_type": "code",
   "execution_count": null,
   "metadata": {
    "hidden": true
   },
   "outputs": [],
   "source": [
    "## replace coding in menarche variable to string from float\n",
    "abcd_y_pds['pds_f5_y'].unique()\n",
    "d = {999.0:'999',4.0:'4',1.0:'1', 777.0:'777'}\n",
    "abcd_y_pds['pds_f5_y'] = abcd_y_pds['pds_f5_y'].replace(d)"
   ]
  },
  {
   "cell_type": "code",
   "execution_count": null,
   "metadata": {
    "hidden": true
   },
   "outputs": [],
   "source": [
    "## count menarche distribution in each measurement\n",
    "mcount = abcd_y_pds.groupby(['eventname','pds_f5_y']).size().reset_index(name='count')\n",
    "count1 = mcount[mcount.pds_f5_y == '1']\n",
    "count1.rename(columns = {'count':'pre-menarche'}, inplace = True)\n",
    "count4 = mcount[mcount.pds_f5_y == '4']\n",
    "count4.rename(columns = {'count':'post-menarche'}, inplace = True)\n",
    "count777 = mcount[mcount.pds_f5_y == '777']\n",
    "count777.rename(columns = {'count':'refused-answer'}, inplace = True)\n",
    "count999= mcount[mcount.pds_f5_y == '999']\n",
    "count999.rename(columns = {'count':'dont-know'}, inplace = True)\n",
    "\n",
    "meta_df = meta_df.merge(count1[['eventname', 'pre-menarche']], on = 'eventname', how = 'outer')\n",
    "meta_df = meta_df.merge(count4[['eventname', 'post-menarche']], on = 'eventname', how = 'outer')\n",
    "meta_df = meta_df.merge(count777[['eventname', 'refused-answer']], on = 'eventname', how = 'outer')\n",
    "meta_df = meta_df.merge(count999[['eventname', 'dont-know']], on = 'eventname', how = 'outer')\n",
    "\n",
    "meta_df['dont-know'].fillna(0,inplace=True)"
   ]
  },
  {
   "cell_type": "code",
   "execution_count": null,
   "metadata": {
    "hidden": true
   },
   "outputs": [],
   "source": [
    "## Table of info about data\n",
    "meta_df.set_index('eventname', inplace = True)\n",
    "meta_df.head()\n",
    "meta_df.to_csv('..\\\\processedData\\\\meta_df_menarche.csv', index = False)"
   ]
  },
  {
   "cell_type": "code",
   "execution_count": null,
   "metadata": {
    "hidden": true
   },
   "outputs": [],
   "source": [
    "menarche_df = abcd_y_pds[abcd_y_pds.sex == 'F']\n",
    "\n",
    "menarche_df_2year = menarche_df[menarche_df.eventname == '2_year_follow_up_y_arm_1']\n",
    "\n",
    "## Exclude subjects with answers 777 or 999\n",
    "menarche_df_2year = menarche_df_2year[((menarche_df_2year['pds_f5_y'] == '1')|(menarche_df_2year['pds_f5_y'] == '4'))] \n",
    "\n",
    "menarche_df_2year.to_csv('..\\\\processedData\\\\relevantMenarcheData2year.csv', index = False)"
   ]
  }
 ],
 "metadata": {
  "kernelspec": {
   "display_name": "Python 3 (ipykernel)",
   "language": "python",
   "name": "python3"
  },
  "language_info": {
   "codemirror_mode": {
    "name": "ipython",
    "version": 3
   },
   "file_extension": ".py",
   "mimetype": "text/x-python",
   "name": "python",
   "nbconvert_exporter": "python",
   "pygments_lexer": "ipython3",
   "version": "3.11.5"
  }
 },
 "nbformat": 4,
 "nbformat_minor": 4
}
