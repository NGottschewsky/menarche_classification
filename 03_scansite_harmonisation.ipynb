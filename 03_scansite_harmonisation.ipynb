{
 "cells": [
  {
   "cell_type": "code",
   "execution_count": null,
   "id": "807dee07",
   "metadata": {},
   "outputs": [],
   "source": [
    "import pandas as pd\n",
    "import numpy as np\n",
    "import seaborn as sns\n",
    "from matplotlib import pyplot as plt \n",
    "import os\n",
    "from neuroCombat import neuroCombat"
   ]
  },
  {
   "cell_type": "code",
   "execution_count": null,
   "id": "73b6f559",
   "metadata": {},
   "outputs": [],
   "source": [
    "os.chdir('ABCDTabular\\\\')"
   ]
  },
  {
   "cell_type": "code",
   "execution_count": null,
   "id": "9578b8c6",
   "metadata": {},
   "outputs": [],
   "source": [
    "## read in mri meta information file \n",
    "scansite = pd.read_csv('abcd_mri01.txt',sep='\\s+')"
   ]
  },
  {
   "cell_type": "code",
   "execution_count": null,
   "id": "1c60748f",
   "metadata": {},
   "outputs": [],
   "source": [
    "## read training and test data for menarche classification\n",
    "traindata = pd.read_csv('..\\\\processedData\\\\menarcheTrain_redONLYSMRI.csv')\n",
    "testdata = pd.read_csv('..\\\\processedData\\\\menarcheTest_redONLYSMRI.csv')\n",
    "traindata.sort_values(by = 'subjectkey', inplace = True, ignore_index = True)\n",
    "testdata.sort_values(by = 'subjectkey', inplace = True, ignore_index = True)"
   ]
  },
  {
   "cell_type": "code",
   "execution_count": null,
   "id": "d3faffc7",
   "metadata": {},
   "outputs": [],
   "source": [
    "## extract and then remove first row of dataframe, which is cleartext description of column content\n",
    "dictscan = scansite.iloc[0]\n",
    "scansite = scansite.drop(index = 0)"
   ]
  },
  {
   "cell_type": "code",
   "execution_count": null,
   "id": "486138af",
   "metadata": {},
   "outputs": [],
   "source": [
    "dictscan"
   ]
  },
  {
   "cell_type": "code",
   "execution_count": null,
   "id": "f04e9be4",
   "metadata": {},
   "outputs": [],
   "source": [
    "## get scansite info for train and test subjects respectively\n",
    "scansiteTrain = scansite.loc[scansite['subjectkey'].isin(traindata['subjectkey'])]\n",
    "scansiteTest = scansite.loc[scansite['subjectkey'].isin(testdata['subjectkey'])]"
   ]
  },
  {
   "cell_type": "code",
   "execution_count": null,
   "id": "2360509e",
   "metadata": {},
   "outputs": [],
   "source": [
    "## make df of every mri device and the number of scans performed with it\n",
    "scansitecounts = scansite['mri_info_deviceserialnumber'].value_counts().reset_index(name='count')\n",
    "scansitecountsTrain = scansiteTrain['mri_info_deviceserialnumber'].value_counts().reset_index(name='count')\n",
    "scansitecountsTest = scansiteTest['mri_info_deviceserialnumber'].value_counts().reset_index(name='count')"
   ]
  },
  {
   "cell_type": "code",
   "execution_count": null,
   "id": "ae69ba62",
   "metadata": {},
   "outputs": [],
   "source": [
    "## rename index column back to original name so that future matching can work\n",
    "scansitecounts = scansitecounts.rename(columns={'index':'mri_info_deviceserialnumber'})\n",
    "scansitecountsTrain = scansitecountsTrain.rename(columns={'index':'mri_info_deviceserialnumber'})\n",
    "scansitecountsTest = scansitecountsTest.rename(columns={'index':'mri_info_deviceserialnumber'})"
   ]
  },
  {
   "cell_type": "code",
   "execution_count": null,
   "id": "100b5ea9",
   "metadata": {},
   "outputs": [],
   "source": [
    "## turn age into float to be able to calculate means\n",
    "import math \n",
    "\n",
    "age = np.array(scansite['interview_age'].astype(float))\n",
    "ageTrain = np.array(scansiteTrain['interview_age'].astype(float))\n",
    "ageTest = np.array(scansiteTest['interview_age'].astype(float))\n",
    "\n",
    "scansite['interview_age'] = age/12\n",
    "scansiteTrain['interview_age'] = ageTrain/12\n",
    "scansiteTest['interview_age'] = ageTest/12"
   ]
  },
  {
   "cell_type": "code",
   "execution_count": null,
   "id": "9e505b63",
   "metadata": {},
   "outputs": [],
   "source": [
    "## make dataframe of mean age per mri device and sort it by age from highest to lowest mean \n",
    "df_mean = scansite.groupby('mri_info_deviceserialnumber')['interview_age'].mean().reset_index()\n",
    "df_mean = df_mean.sort_values('interview_age', ascending=False)\n",
    "\n",
    "df_meanTrain = scansiteTrain.groupby('mri_info_deviceserialnumber')['interview_age'].mean().reset_index()\n",
    "df_meanTrain = df_meanTrain.sort_values('interview_age', ascending=False)\n",
    "\n",
    "df_meanTest = scansiteTest.groupby('mri_info_deviceserialnumber')['interview_age'].mean().reset_index()\n",
    "df_meanTest = df_meanTest.sort_values('interview_age', ascending=False)"
   ]
  },
  {
   "cell_type": "code",
   "execution_count": null,
   "id": "c32bc7fd",
   "metadata": {
    "scrolled": true
   },
   "outputs": [],
   "source": [
    "## merge dataframe of means with dataframe of counts\n",
    "df_mean.merge(scansitecounts,how='outer', on='mri_info_deviceserialnumber')"
   ]
  },
  {
   "cell_type": "code",
   "execution_count": null,
   "id": "96861137",
   "metadata": {
    "scrolled": true
   },
   "outputs": [],
   "source": [
    "df_meanTrain.merge(scansitecountsTrain, how = 'outer', on = 'mri_info_deviceserialnumber')"
   ]
  },
  {
   "cell_type": "code",
   "execution_count": null,
   "id": "6cfa5e6b",
   "metadata": {
    "scrolled": true
   },
   "outputs": [],
   "source": [
    "df_meanTest.merge(scansitecountsTest, how = 'outer', on = 'mri_info_deviceserialnumber')"
   ]
  },
  {
   "cell_type": "markdown",
   "id": "b7f19d9f",
   "metadata": {},
   "source": [
    "### Harmonize Train and Test Data separately"
   ]
  },
  {
   "cell_type": "code",
   "execution_count": null,
   "id": "42997a96",
   "metadata": {},
   "outputs": [],
   "source": [
    "## get scanner data from only 2-year follow-up\n",
    "scansiteTest = scansiteTest.loc[scansiteTest['eventname'] == '2_year_follow_up_y_arm_1']\n",
    "scansiteTrain = scansiteTrain.loc[scansiteTrain['eventname'] == '2_year_follow_up_y_arm_1']\n",
    "\n",
    "scansiteTest.reset_index(inplace=True,drop=True)\n",
    "scansiteTrain.reset_index(inplace=True,drop=True)\n",
    "\n",
    "## sort train and test data by subjectkeys\n",
    "testdata.sort_values(by = 'subjectkey', inplace=True)\n",
    "traindata.sort_values(by = 'subjectkey', inplace=True)\n",
    "\n",
    "## sort scanner data by subjectkeys to bring in same order as MRI data\n",
    "scansiteTest.sort_values(by='subjectkey', inplace=True)\n",
    "scansiteTrain.sort_values(by='subjectkey', inplace=True)"
   ]
  },
  {
   "cell_type": "code",
   "execution_count": null,
   "id": "28de1916",
   "metadata": {},
   "outputs": [],
   "source": [
    "## get menarche variable from train & test dfs\n",
    "menarcheTrain = traindata[['subjectkey','pds_f5_y_P']]\n",
    "menarcheTest = testdata[['subjectkey', 'pds_f5_y_P']]"
   ]
  },
  {
   "cell_type": "code",
   "execution_count": null,
   "id": "c4564b2a",
   "metadata": {},
   "outputs": [],
   "source": [
    "## merge scanner with menarche data\n",
    "scan_menTrain = scansiteTrain.merge(menarcheTrain, how = 'outer', on = 'subjectkey')\n",
    "scan_menTest = scansiteTest.merge(menarcheTest, how = 'outer', on = 'subjectkey')"
   ]
  },
  {
   "cell_type": "code",
   "execution_count": null,
   "id": "2ef4a4b1",
   "metadata": {},
   "outputs": [],
   "source": [
    "## extract only the mri data of each specific modality from train \n",
    "## data to use harmonisation individually (needs to be done that way)\n",
    "thicknessTrain = traindata.filter(regex=\".*smri_thick_cdk.*\")\n",
    "areaTrain = traindata.filter(regex=\".*smri_area_cdk.*\")\n",
    "volumeTrain = traindata.filter(regex=\".*smri_vol_cdk.*\")\n",
    "subcorticalTrain = traindata.filter(regex=\".*smri_vol_scs.*\")"
   ]
  },
  {
   "cell_type": "code",
   "execution_count": null,
   "id": "1fd6620e",
   "metadata": {},
   "outputs": [],
   "source": [
    "## extract only the mri data of each specific modality from test\n",
    "## data to use harmonisation individually (needs to be done that way)\n",
    "thicknessTest = testdata.filter(regex=\".*smri_thick_cdk.*\")\n",
    "areaTest = testdata.filter(regex=\".*smri_area_cdk.*\")\n",
    "volumeTest = testdata.filter(regex=\".*smri_vol_cdk.*\")\n",
    "subcorticalTest = testdata.filter(regex=\".*smri_vol_scs.*\")"
   ]
  },
  {
   "cell_type": "code",
   "execution_count": null,
   "id": "40c773ca",
   "metadata": {},
   "outputs": [],
   "source": [
    "## turn training dataframes into numpy arrays\n",
    "thickness_arrayTr = thicknessTrain.values\n",
    "area_arrayTr = areaTrain.values\n",
    "volume_arrayTr = volumeTrain.values\n",
    "subcortical_arrayTr = subcorticalTrain.values\n",
    "\n",
    "## save column names of each modality into list\n",
    "thickness_columnsTr = thicknessTrain.columns\n",
    "area_columnsTr = areaTrain.columns\n",
    "volume_columnsTr = volumeTrain.columns\n",
    "subcortical_columnsTr = subcorticalTrain.columns\n",
    "\n",
    "## put data arrays and column names into lists so I can iterate through \n",
    "## them and do the harmonization for every modality within a single function\n",
    "arraylistTrain = [thickness_arrayTr,area_arrayTr,volume_arrayTr,subcortical_arrayTr]\n",
    "columnslistTrain = [thickness_columnsTr,area_columnsTr,volume_columnsTr,subcortical_columnsTr]"
   ]
  },
  {
   "cell_type": "code",
   "execution_count": null,
   "id": "d6b31614",
   "metadata": {},
   "outputs": [],
   "source": [
    "## turn test dataframes into numpy arrays\n",
    "thickness_arrayTs = thicknessTest.values\n",
    "area_arrayTs = areaTest.values\n",
    "volume_arrayTs = volumeTest.values\n",
    "subcortical_arrayTs = subcorticalTest.values\n",
    "\n",
    "## save column names of each modality into list\n",
    "thickness_columnsTs = thicknessTest.columns\n",
    "area_columnsTs = areaTest.columns\n",
    "volume_columnsTs = volumeTest.columns\n",
    "subcortical_columnsTs = subcorticalTest.columns\n",
    "\n",
    "## put data arrays and column names into lists so I can iterate through\n",
    "## them and do the harmonization for every modality within a single function\n",
    "arraylistTest = [thickness_arrayTs,area_arrayTs,volume_arrayTs,subcortical_arrayTs]\n",
    "columnslistTest = [thickness_columnsTs,area_columnsTs,volume_columnsTs,subcortical_columnsTs]"
   ]
  },
  {
   "cell_type": "code",
   "execution_count": null,
   "id": "b3237949",
   "metadata": {},
   "outputs": [],
   "source": [
    "## specify name of scansite variable\n",
    "batchcol = 'mri_info_deviceserialnumber'"
   ]
  },
  {
   "cell_type": "code",
   "execution_count": null,
   "id": "e24dd02f",
   "metadata": {},
   "outputs": [],
   "source": [
    "## create df that contains only scansite and menarche info without subjectkey\n",
    "demogandscannerTrain = scan_menTrain[['mri_info_deviceserialnumber','pds_f5_y_P']]\n",
    "\n",
    "demogandscannerTest = scan_menTest[['mri_info_deviceserialnumber','pds_f5_y_P']]"
   ]
  },
  {
   "cell_type": "code",
   "execution_count": null,
   "id": "a8e2542c",
   "metadata": {},
   "outputs": [],
   "source": [
    "from neuroCombat import neuroCombat\n",
    "\n",
    "## method to perform harmonization for every modality (volume, thickness etc.)\n",
    "def site_harmonization(array_list, column_list, site_df, site_var):\n",
    "    '''\n",
    "    This function performs Combat harmonization per MRI modality\n",
    "    Input:\n",
    "    - array_list: list of arrays containing area, volume etc. data, Note: Combat expects shape \n",
    "    (features x subject) --> transpose\n",
    "    - site_df: dataframe containing demographic and site information\n",
    "    - site_var: variable that encodes MRI site information (here: scanner number)\n",
    "    ------\n",
    "    Output:\n",
    "    - array_list_combat: combat harmonized MRI data with shape of input array_list\n",
    "    - dataframe: combat harmonized MRI data as a pandas dataframe\n",
    "    '''\n",
    "    # initialise list and dataframe\n",
    "    array_list_combat = []\n",
    "    dataframe = pd.DataFrame()\n",
    "    \n",
    "    i = 0\n",
    "    \n",
    "    # loop through all modalities\n",
    "    for array in array_list:\n",
    "        # perform harmonization on single modality (call neuroCombat method (https://github.com/Jfortin1/neuroCombat))\n",
    "        array_combat = neuroCombat(\n",
    "            dat=array.T,  covars=site_df, batch_col=site_var)[\"data\"]\n",
    "        # append result of harmonization of one modality to larger list of arrays of harmonized modalities\n",
    "        array_list_combat.append(array_combat.T)\n",
    "        # turn results into dataframe \n",
    "        tempdf = pd.DataFrame(array_combat.T, columns = column_list[i])\n",
    "        # concatinate dataframe to dataframe of already harmonized modality\n",
    "        dataframe = pd.concat([dataframe,tempdf], axis=1)\n",
    "        \n",
    "        i = i+1 \n",
    "\n",
    "    return array_list_combat, dataframe"
   ]
  },
  {
   "cell_type": "code",
   "execution_count": null,
   "id": "78a30edb",
   "metadata": {},
   "outputs": [],
   "source": [
    "## call site_harmonization method to obtain harmonized training data as list and dataframe for training data\n",
    "arraylistcombatTrain, harmonizedDFTrain = site_harmonization(arraylistTrain,columnslistTrain,demogandscannerTrain,batchcol)"
   ]
  },
  {
   "cell_type": "code",
   "execution_count": null,
   "id": "fa14584f",
   "metadata": {},
   "outputs": [],
   "source": [
    "## call site_harmonization method to obtain harmonized test data as list and dataframe for test data\n",
    "arraylistcombatTest, harmonizedDFTest = site_harmonization(arraylistTest,columnslistTest,demogandscannerTest,batchcol)"
   ]
  },
  {
   "cell_type": "code",
   "execution_count": null,
   "id": "af6c3f00",
   "metadata": {},
   "outputs": [],
   "source": [
    "# put subjectkeys back into harmonized mri dataframe\n",
    "harmonizedDFTrain['subjectkey'] = traindata['subjectkey']\n",
    "\n",
    "harmonizedDFTest['subjectkey'] = testdata['subjectkey']"
   ]
  },
  {
   "cell_type": "code",
   "execution_count": null,
   "id": "4c6f7d57",
   "metadata": {},
   "outputs": [],
   "source": [
    "## add menarche variable and scanner data back to harmonized MRI data\n",
    "harmonizedDFTest_m = harmonizedDFTest.merge(scan_menTest, on = 'subjectkey', how = 'outer')\n",
    "harmonizedDFTrain_m = harmonizedDFTrain.merge(scan_menTrain, how = 'outer', on = 'subjectkey')"
   ]
  },
  {
   "cell_type": "code",
   "execution_count": null,
   "id": "a33194e8",
   "metadata": {},
   "outputs": [],
   "source": [
    "## add only menarche variable back to harmonized MRI data\n",
    "harmonizedDFTest = harmonizedDFTest.merge(menarcheTest, how = 'outer', on = 'subjectkey')\n",
    "harmonizedDFTrain = harmonizedDFTrain.merge(menarcheTrain, how = 'outer', on = 'subjectkey')"
   ]
  },
  {
   "cell_type": "code",
   "execution_count": null,
   "id": "1a98935d",
   "metadata": {},
   "outputs": [],
   "source": [
    "harmonizedDFTest_m.to_csv('..\\\\processedData\\\\harmonizedTestdata_plusscannerdfONLYSMRI.csv', index=False)"
   ]
  },
  {
   "cell_type": "code",
   "execution_count": null,
   "id": "ad37d38d",
   "metadata": {},
   "outputs": [],
   "source": [
    "harmonizedDFTrain_m.to_csv('..\\\\processedData\\\\harmonizedTraindata_plusscannerdfONLYSMRI.csv', index=False)"
   ]
  }
 ],
 "metadata": {
  "kernelspec": {
   "display_name": "Python 3 (ipykernel)",
   "language": "python",
   "name": "python3"
  },
  "language_info": {
   "codemirror_mode": {
    "name": "ipython",
    "version": 3
   },
   "file_extension": ".py",
   "mimetype": "text/x-python",
   "name": "python",
   "nbconvert_exporter": "python",
   "pygments_lexer": "ipython3",
   "version": "3.11.5"
  }
 },
 "nbformat": 4,
 "nbformat_minor": 5
}
