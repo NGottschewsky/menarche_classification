{
 "cells": [
  {
   "cell_type": "code",
   "execution_count": null,
   "id": "487aee8c",
   "metadata": {},
   "outputs": [],
   "source": [
    "import numpy as np\n",
    "import pandas as pd\n",
    "import matplotlib.pyplot as plt\n",
    "import seaborn as sns\n",
    "import math\n",
    "import os\n",
    "sns.set()  # set the style"
   ]
  },
  {
   "cell_type": "code",
   "execution_count": null,
   "id": "080335df",
   "metadata": {},
   "outputs": [],
   "source": [
    "os.chdir('processedData\\\\')"
   ]
  },
  {
   "cell_type": "code",
   "execution_count": null,
   "id": "431f2158",
   "metadata": {},
   "outputs": [],
   "source": [
    "sns.set_style('whitegrid')\n",
    "sns.set_context('paper', font_scale= 2)"
   ]
  },
  {
   "cell_type": "code",
   "execution_count": null,
   "id": "0e759ced",
   "metadata": {},
   "outputs": [],
   "source": [
    "## read in Training data to match by age and scanner and equalize group sizes\n",
    "menarcheDF = pd.read_csv('harmonizedTraindata_plusscannerdfONLYSMRI.csv')"
   ]
  },
  {
   "cell_type": "markdown",
   "id": "188ab6a9",
   "metadata": {},
   "source": [
    "## Age and Scanner matching"
   ]
  },
  {
   "cell_type": "code",
   "execution_count": null,
   "id": "2d30b11c",
   "metadata": {},
   "outputs": [],
   "source": [
    "## choose features for propensity score calculation (only Age and Scanner in this case)\n",
    "X = pd.get_dummies(menarcheDF['mri_info_deviceserialnumber'])\n",
    "X['age'] = menarcheDF['interview_age']\n",
    "y = menarcheDF['pds_f5_y_P']"
   ]
  },
  {
   "cell_type": "code",
   "execution_count": null,
   "id": "ada2d214",
   "metadata": {},
   "outputs": [],
   "source": [
    "## create pipeline for calculation of propensity scores\n",
    "from sklearn.linear_model import LogisticRegression\n",
    "from sklearn.pipeline import Pipeline\n",
    "from sklearn.preprocessing import StandardScaler\n",
    "\n",
    "pipe = Pipeline([\n",
    "    ('scaler', StandardScaler()),\n",
    "    ('logistic_classifier', LogisticRegression())\n",
    "])\n",
    "pipe.fit(X, y)"
   ]
  },
  {
   "cell_type": "code",
   "execution_count": null,
   "id": "186b386a",
   "metadata": {},
   "outputs": [],
   "source": [
    "## prediction\n",
    "pred_binary = pipe.predict(X)  # binary 0 pre, 1 post\n",
    "menarcheDF['PS'] = pipe.predict_proba(X)[:,1] # probabilities for classes\n",
    "# calculate the logit of the propensity score for matching \n",
    "def logit(p):\n",
    "    logit_value = math.log(p / (1-p))\n",
    "    return logit_value\n",
    "\n",
    "menarcheDF['PS_LOGIT'] = menarcheDF['PS'].apply(lambda x: logit(x))\n",
    "\n",
    "menarcheDF.head()"
   ]
  },
  {
   "cell_type": "code",
   "execution_count": null,
   "id": "2a1ac711",
   "metadata": {},
   "outputs": [],
   "source": [
    "## check the overlap of PS for pre and post using histogram\n",
    "## if not much overlap, the matching won't work\n",
    "sns.histplot(data=menarcheDF, x='PS_LOGIT', hue='pds_f5_y_P', palette=['red','blue']) \n",
    "plt.title('Propensity Scores of Pre and Post Menarche Group', size = 15)\n",
    "plt.xlabel('Logit of Propensity Score')\n",
    "plt.legend(['Post','Pre'],title='Menarche')\n",
    "plt.savefig('..\\\\Plots\\\\overlapPrePostMen.png')"
   ]
  },
  {
   "cell_type": "code",
   "execution_count": null,
   "id": "307af5db",
   "metadata": {},
   "outputs": [],
   "source": [
    "## use 30% of standard deviation of the propensity score as the caliper/radius\n",
    "## get the k closest neighbors for each observations\n",
    "## relax caliper and increase k can provide more matches\n",
    "\n",
    "from sklearn.neighbors import NearestNeighbors\n",
    "\n",
    "caliper = np.std(menarcheDF.PS_LOGIT) * 0.3\n",
    "print(f'caliper (radius) is: {caliper:.4f}')\n",
    "\n",
    "n_neighbors = 100\n",
    "\n",
    "# setup knn\n",
    "knn = NearestNeighbors(n_neighbors=n_neighbors, radius=caliper)\n",
    "\n",
    "PS_LOGIT = menarcheDF[['PS_LOGIT']]  # double brackets as a dataframe\n",
    "knn.fit(PS_LOGIT)"
   ]
  },
  {
   "cell_type": "code",
   "execution_count": null,
   "id": "3fa91215",
   "metadata": {},
   "outputs": [],
   "source": [
    "## distances and indexes\n",
    "distances, neighbor_indexes = knn.kneighbors(PS_LOGIT)\n",
    "\n",
    "print(neighbor_indexes.shape)\n",
    "\n",
    "## the 10 closest points to the first point\n",
    "print(distances[0])\n",
    "print(neighbor_indexes[0])"
   ]
  },
  {
   "cell_type": "code",
   "execution_count": null,
   "id": "504cf312",
   "metadata": {},
   "outputs": [],
   "source": [
    "## for each point in post men, we find a matching point in pre men without replacement\n",
    "## note the 10 neighbors may include both points in post and pre\n",
    "\n",
    "matched_control = []  # keep track of the matched observations in pre\n",
    "\n",
    "for current_index, row in menarcheDF.iterrows():  # iterate over the dataframe\n",
    "    if row.pds_f5_y_P == 1:  # the current row is in the pre group\n",
    "        menarcheDF.loc[current_index, 'MATCHED'] = np.nan  # set matched to nan\n",
    "    else: \n",
    "        for idx in neighbor_indexes[current_index, :]: # for each row in post, find the k neighbors\n",
    "            # make sure the current row is not the idx - don't match to itself\n",
    "            # and the neighbor is in the pre class \n",
    "            if (current_index != idx) and (menarcheDF.loc[idx].pds_f5_y_P == 1):\n",
    "                if idx not in matched_control:  # this pre men subject has not been matched yet\n",
    "                    menarcheDF.loc[current_index, 'MATCHED'] = idx  # record the matching\n",
    "                    matched_control.append(idx)  # add the matched to the list\n",
    "                    break"
   ]
  },
  {
   "cell_type": "code",
   "execution_count": null,
   "id": "8aa782df",
   "metadata": {},
   "outputs": [],
   "source": [
    "print('total observations in post menarche group:', len(menarcheDF[menarcheDF.pds_f5_y_P==4]))\n",
    "print('total matched observations in pre menarche group:', len(matched_control))"
   ]
  },
  {
   "cell_type": "code",
   "execution_count": null,
   "id": "5afffb57",
   "metadata": {},
   "outputs": [],
   "source": [
    "## some pre men subs have no match\n",
    "treatment_matchedBoth = menarcheDF.dropna(subset=['MATCHED'])  # drop not-matched\n",
    "\n",
    "## matched pre men indexes\n",
    "control_matched_idx = treatment_matchedBoth['MATCHED']\n",
    "control_matched_idx = control_matched_idx.astype(int)  # change to int\n",
    "control_matchedBoth = menarcheDF.loc[control_matched_idx, :]  # select matched control observations\n",
    "\n",
    "## combine the matched pre and post subjects\n",
    "df_matchedBoth = pd.concat([treatment_matchedBoth, control_matchedBoth])\n",
    "\n",
    "df_matchedBoth['pds_f5_y_P'].value_counts()"
   ]
  },
  {
   "cell_type": "code",
   "execution_count": null,
   "id": "d0ccaea3",
   "metadata": {},
   "outputs": [],
   "source": [
    "df_matchedBoth.reset_index(inplace=True)\n",
    "df_matchedBoth.groupby(['pds_f5_y_P'])['interview_age'].mean()"
   ]
  },
  {
   "cell_type": "code",
   "execution_count": null,
   "id": "9a4856fd",
   "metadata": {},
   "outputs": [],
   "source": [
    "# distribution of age after matching\n",
    "sns.histplot(data=df_matchedBoth, x='interview_age', hue='pds_f5_y_P', palette=['red','blue']) \n",
    "#fig.tight_layout()\n",
    "plt.legend(['Post','Pre'],title='Menarche')\n",
    "plt.xlabel('Age')\n",
    "plt.title('Age Distribution in Training Data after Matching', size = 15)\n",
    "plt.savefig('..\\\\Plots\\\\agedistAfterMatching.png')"
   ]
  },
  {
   "cell_type": "code",
   "execution_count": null,
   "id": "9e7e0f31",
   "metadata": {},
   "outputs": [],
   "source": [
    "df_mean = menarcheDF.groupby(['pds_f5_y_P','mri_info_deviceserialnumber']).size().reset_index(name='count')\n",
    "df_mean = df_mean.sort_values('count',ascending=True)"
   ]
  },
  {
   "cell_type": "code",
   "execution_count": null,
   "id": "796e8877",
   "metadata": {},
   "outputs": [],
   "source": [
    "df_mean2 = df_matchedBoth.groupby(['pds_f5_y_P','mri_info_deviceserialnumber']).size().reset_index(name='count')\n",
    "df_mean2 = df_mean2.sort_values('count',ascending=True)"
   ]
  },
  {
   "cell_type": "code",
   "execution_count": null,
   "id": "366c9a4d",
   "metadata": {},
   "outputs": [],
   "source": [
    "fig, (ax1,ax2) = plt.subplots(1,2, figsize = (15,5))\n",
    "fig.tight_layout(pad = 1.8)\n",
    "hueorder = [4,1]\n",
    "\n",
    "ax1 = sns.barplot(data=df_mean, x='mri_info_deviceserialnumber', y='count', hue='pds_f5_y_P', hue_order = hueorder, palette='rocket', ax=ax1) \n",
    "ax1.set_xlabel('MRI Scanner')\n",
    "ax1.set_xticklabels('')\n",
    "labels = ['Post','Pre']\n",
    "h, l = ax1.get_legend_handles_labels()\n",
    "ax1.legend(h, labels, title=\"Menarche\")\n",
    "\n",
    "ax2 = sns.barplot(data=df_mean2, x='mri_info_deviceserialnumber', y='count', hue='pds_f5_y_P', hue_order = hueorder, palette='rocket', ax=ax2) \n",
    "ax2.set_xlabel('MRI Scanner')\n",
    "ax2.set_xticklabels('')\n",
    "labels = ['Post','Pre']\n",
    "h, l = ax2.get_legend_handles_labels()\n",
    "ax2.legend(h, labels, title=\"Menarche\")\n",
    "\n",
    "plt.savefig('..\\\\Plots\\\\scannerprepostmatching.png')"
   ]
  },
  {
   "cell_type": "code",
   "execution_count": null,
   "id": "79fcf04f",
   "metadata": {},
   "outputs": [],
   "source": [
    "df_matchedBoth.to_csv('menarcheTrain_harm_red_matchedAgeScannerONLYSMRI.csv', index = False)"
   ]
  }
 ],
 "metadata": {
  "kernelspec": {
   "display_name": "Python 3 (ipykernel)",
   "language": "python",
   "name": "python3"
  },
  "language_info": {
   "codemirror_mode": {
    "name": "ipython",
    "version": 3
   },
   "file_extension": ".py",
   "mimetype": "text/x-python",
   "name": "python",
   "nbconvert_exporter": "python",
   "pygments_lexer": "ipython3",
   "version": "3.11.5"
  }
 },
 "nbformat": 4,
 "nbformat_minor": 5
}
