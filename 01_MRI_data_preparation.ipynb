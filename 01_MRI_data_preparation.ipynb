{
 "cells": [
  {
   "cell_type": "markdown",
   "metadata": {},
   "source": [
    "## Preparation of MRI data as training data for classification\n",
    "\n",
    "**Input:**\n",
    "\n",
    "- ABCD sMRI Part 1 (abcd_smrip10201.txt)\n",
    "    - smri_sulc_cdk_... (sulcal depth)\n",
    "    - smri_thick_cdk_... (thickness)\n",
    "    - smri_area_cdk_... (area)\n",
    "    - smri_vol_cdk_... (volume)\n",
    "    - smri_vol_scs_... (subcortical)\n",
    "\n",
    "\n",
    "- ABCD sMRI Part 2 (abcd_smrip20201.txt)\n",
    "    - smri_t1wcnt_cdk (contrast)\n",
    "\n",
    "\n",
    "- ABCD FreeSurfer QC (abcd_fsurfqc01.txt)\n",
    "    - fsqc_qc (*1 = accept, 0 = reject*)\n",
    "\n",
    "\n",
    "- ABCD dMRI DTI Part 1 (abcd_dti_p101.txt)\n",
    "    - dmri_dtimd_fiberat_… (mean diffusivity) \n",
    "    \n",
    "    \n",
    "- ABCD dMRI Post Processing QC (abcd_dmriqc01.txt)\n",
    "    - dmri_dti_postqc_qc (*1 = accept, 0 = reject*)\n",
    "    \n",
    "- ABCD Youth Pubertal Development Scale and Menstrual Cycle Survey History (PDMS) (abcd_ypdms01)\n",
    "    - pds_f5_y (Have you begun to menstruate (started to have your period)?) \n",
    "        (*4 = Yes; 1 = No; 999 = I don't know; 777= refuse to answer*)\n",
    "        \n",
    "**Output:**\n",
    "\n",
    "- **mergedMRIforMenarcheSubs.csv:** All MRI and Quality Control Files merged into one file. Only subjects for which every sort of data exists, i.e. every type of MRI data + puberty questionnaire data.\n",
    "- **MRIpredictorsPlusMeta.csv:** Dataframe containing only the MRI measures of interest (volume, area, contrast extracted from Desikan Kiliani Atlas) as well as demographic data on age, date etc. Dataframe has been processed to exclude subjects who were marked as exclude in the QC files and those who had NAs in any of the columns (null columns were removed beforehand).\n",
    "- **processedMRIDataMenarcheSubs.csv:** processed MRI dataset sorted by subjectID, checked for identical subjects and sorting as puberty dataset\n",
    "- **processedPubertyDataMenarcheSubs.csv:** processed Puberty dataset sorted by subjectID, checked for identical subjects and sorting as MRI dataset"
   ]
  },
  {
   "cell_type": "code",
   "execution_count": null,
   "metadata": {},
   "outputs": [],
   "source": [
    "import pandas as pd\n",
    "import numpy as np\n",
    "import seaborn as sn\n",
    "from matplotlib import pyplot as plt \n",
    "import os"
   ]
  },
  {
   "cell_type": "code",
   "execution_count": null,
   "metadata": {},
   "outputs": [],
   "source": [
    "os.chdir('ABCDTabular\\\\')"
   ]
  },
  {
   "cell_type": "code",
   "execution_count": null,
   "metadata": {},
   "outputs": [],
   "source": [
    "## Read the ABCD's MRI data preprocessed according to the Desikan Kiliani Atlas into a dataframe \n",
    "sMRI1 = pd.read_csv('abcd_smrip10201.txt',sep='\\s+')  \n",
    "dictsMRI1 = sMRI1.iloc[0]\n",
    "sMRI1 = sMRI1.drop(index = 0)\n",
    "sMRI2 = pd.read_csv('abcd_smrip20201.txt',sep='\\s+')  \n",
    "dictsMRI2 = sMRI2.iloc[0]\n",
    "sMRI2 = sMRI2.drop(index = 0)\n",
    "DTI = pd.read_csv('abcd_dti_p101.txt',sep='\\s+')  \n",
    "dictDTI = DTI.iloc[0]\n",
    "DTI = DTI.drop(index = 0)\n",
    "#DTI\n",
    "dictDTI"
   ]
  },
  {
   "cell_type": "code",
   "execution_count": null,
   "metadata": {},
   "outputs": [],
   "source": [
    "## Read the sMRI Quality Control file\n",
    "sMRI_QC = pd.read_csv('abcd_fsurfqc01.txt',sep='\\s+')  \n",
    "dictsMRI_QC = sMRI_QC.iloc[0]\n",
    "sMRI_QC = sMRI_QC.drop(index = 0)\n",
    "dMRI_QC = pd.read_csv('abcd_dmriqc01.txt',sep='\\s+')  \n",
    "dictdMRI_QC = dMRI_QC.iloc[0]\n",
    "dMRI_QC = dMRI_QC.drop(index = 0)"
   ]
  },
  {
   "cell_type": "code",
   "execution_count": null,
   "metadata": {},
   "outputs": [],
   "source": [
    "## Read the ABCD's puberty data \n",
    "pubertyData = pd.read_csv('..\\\\processedData\\\\relevantMenarcheData2year.csv')"
   ]
  },
  {
   "cell_type": "code",
   "execution_count": null,
   "metadata": {},
   "outputs": [],
   "source": [
    "## Add suffixes to all columns of the different dfs because some columnnames exist in all dfs\n",
    "sMRI1 = sMRI1.add_suffix('_M1')\n",
    "sMRI2 = sMRI2.add_suffix('_M2')\n",
    "sMRI_QC = sMRI_QC.add_suffix('_MQC')\n",
    "DTI = DTI.add_suffix('_D')\n",
    "dMRI_QC = dMRI_QC.add_suffix('_DQC')\n",
    "pubertyData = pubertyData.add_suffix('_P')"
   ]
  },
  {
   "cell_type": "code",
   "execution_count": null,
   "metadata": {},
   "outputs": [],
   "source": [
    "## Remove suffix from subjectkey to enable merging on this column\n",
    "sMRI1 = sMRI1.rename(columns = {'subjectkey_M1':'subjectkey'})\n",
    "sMRI2 = sMRI2.rename(columns = {'subjectkey_M2':'subjectkey'})\n",
    "sMRI_QC = sMRI_QC.rename(columns = {'subjectkey_MQC':'subjectkey'})\n",
    "DTI = DTI.rename(columns = {'subjectkey_D':'subjectkey'})\n",
    "dMRI_QC = dMRI_QC.rename(columns = {'subjectkey_DQC':'subjectkey'})\n",
    "pubertyData = pubertyData.rename(columns = {'subjectkey_P':'subjectkey'})"
   ]
  },
  {
   "cell_type": "code",
   "execution_count": null,
   "metadata": {},
   "outputs": [],
   "source": [
    "## Save subjectkeys of all subjects for whom puberty data exists\n",
    "subjectkeys = pubertyData['subjectkey']\n",
    "## Make list out of subjectkeys\n",
    "subjectkeys = subjectkeys.values.tolist()"
   ]
  },
  {
   "cell_type": "code",
   "execution_count": null,
   "metadata": {},
   "outputs": [],
   "source": [
    "## Reduce sMRI data to those subjects for whom puberty data exists\n",
    "sMRI1_reduced = sMRI1.loc[sMRI1['subjectkey'].isin(subjectkeys)]\n",
    "sr = pd.Series(sMRI1_reduced['subjectkey'])\n",
    "srdf = sr.value_counts().reset_index()\n",
    "## Reduce data to 2-year follow-up data\n",
    "sMRI1_reduced = sMRI1_reduced[sMRI1_reduced['eventname_M1'] == '2_year_follow_up_y_arm_1']"
   ]
  },
  {
   "cell_type": "code",
   "execution_count": null,
   "metadata": {},
   "outputs": [],
   "source": [
    "## Reduce sMRI data to those subjects for whom puberty data exists\n",
    "sMRI2_reduced = sMRI2.loc[sMRI2['subjectkey'].isin(subjectkeys)]\n",
    "sr2 = pd.Series(sMRI2_reduced['subjectkey'])\n",
    "srdf2 = sr2.value_counts().reset_index()\n",
    "## Reduce data to 2-year follow-up data\n",
    "sMRI2_reduced = sMRI2_reduced[sMRI2_reduced['eventname_M2'] == '2_year_follow_up_y_arm_1']"
   ]
  },
  {
   "cell_type": "code",
   "execution_count": null,
   "metadata": {},
   "outputs": [],
   "source": [
    "## Reduce QC data to subjects with complete data and reduce to follow-up data\n",
    "sMRI_QC_reduced = sMRI_QC.loc[sMRI_QC['subjectkey'].isin(subjectkeys)]\n",
    "sr3 = pd.Series(sMRI_QC_reduced['subjectkey'])\n",
    "srdf3 = sr3.value_counts().reset_index()\n",
    "sMRI_QC_reduced = sMRI_QC_reduced[sMRI_QC_reduced['eventname_MQC'] == '2_year_follow_up_y_arm_1']"
   ]
  },
  {
   "cell_type": "code",
   "execution_count": null,
   "metadata": {},
   "outputs": [],
   "source": [
    "## Do the same with DTI data\n",
    "DTI_reduced = DTI.loc[DTI['subjectkey'].isin(subjectkeys)]\n",
    "sr4 = pd.Series(DTI_reduced['subjectkey'])\n",
    "srdf4 = sr4.value_counts().reset_index()\n",
    "DTI_reduced = DTI_reduced[DTI_reduced['eventname_D'] == '2_year_follow_up_y_arm_1']\n",
    "\n",
    "DTI_QC_reduced = dMRI_QC.loc[dMRI_QC['subjectkey'].isin(subjectkeys)]\n",
    "sr5 = pd.Series(DTI_QC_reduced['subjectkey'])\n",
    "srdf5 = sr5.value_counts().reset_index()\n",
    "DTI_QC_reduced = DTI_QC_reduced[DTI_QC_reduced['eventname_DQC'] == '2_year_follow_up_y_arm_1']"
   ]
  },
  {
   "cell_type": "code",
   "execution_count": null,
   "metadata": {},
   "outputs": [],
   "source": [
    "## match all dfs and kick out subjects that don't have data in any of the modalities\n",
    "dtiqc_subkeys = DTI_QC_reduced['subjectkey']\n",
    "dtiqc_subkeys = dtiqc_subkeys.values.tolist()\n",
    "\n",
    "dti_matched = DTI_reduced.loc[DTI_reduced['subjectkey'].isin(dtiqc_subkeys)]\n",
    "\n",
    "dtimatch_subkeys = dti_matched['subjectkey']\n",
    "dtimatch_subkeys = dtimatch_subkeys.values.tolist()\n",
    "\n",
    "dti_qc_matched = DTI_QC_reduced.loc[DTI_QC_reduced['subjectkey'].isin(dtimatch_subkeys)]\n",
    "\n",
    "smri_subkeys = sMRI1_reduced['subjectkey']\n",
    "smri_subkeys = smri_subkeys.values.tolist()\n",
    "\n",
    "sMRI2_matched = sMRI2_reduced.loc[sMRI2_reduced['subjectkey'].isin(smri_subkeys)]\n",
    "\n",
    "smri_m_subkeys = sMRI2_matched['subjectkey']\n",
    "smri_m_subkeys = smri_m_subkeys.values.tolist()\n",
    "\n",
    "sMRI1_matched = sMRI1_reduced.loc[sMRI1_reduced['subjectkey'].isin(smri_m_subkeys)]\n",
    "\n",
    "smri_qc_subkey = sMRI_QC_reduced['subjectkey']\n",
    "smri_qc_subkey = smri_qc_subkey.values.tolist()\n",
    "\n",
    "sMRI_QC_matched = sMRI_QC_reduced.loc[sMRI_QC_reduced['subjectkey'].isin(smri_m_subkeys)]\n",
    "\n",
    "sMRI_merged = sMRI1_matched.merge(sMRI2_matched, how='outer', on='subjectkey')\n",
    "sMRI_merged_matched = sMRI_merged.loc[sMRI_merged['subjectkey'].isin(dtimatch_subkeys)]\n",
    "\n",
    "MRI_merged = sMRI_merged_matched.merge(dti_matched, how='outer', on='subjectkey')\n",
    "\n",
    "merged_keys = MRI_merged['subjectkey']\n",
    "merged_keys = merged_keys.values.tolist()\n",
    "\n",
    "sMRI_QC_matched = sMRI_QC_matched.loc[sMRI_QC_matched['subjectkey'].isin(merged_keys)]\n",
    "\n",
    "dti_qc_matched = dti_qc_matched.loc[dti_qc_matched['subjectkey'].isin(merged_keys)]\n",
    "\n",
    "QC_merged = sMRI_QC_matched.merge(dti_qc_matched, how = 'outer', on = 'subjectkey')"
   ]
  },
  {
   "cell_type": "code",
   "execution_count": null,
   "metadata": {},
   "outputs": [],
   "source": [
    "## combine all MRI and Quality control data into one df of only subjects who have all data\n",
    "MRIandQCcomplete = MRI_merged.merge(QC_merged, how='outer', on='subjectkey')"
   ]
  },
  {
   "cell_type": "code",
   "execution_count": null,
   "metadata": {},
   "outputs": [],
   "source": [
    "#MRIandQCcomplete.to_csv('D:\\\\Studium\\\\Master\\\\Masterarbeit\\\\ABCD_Data\\\\mergedMRIforMenarcheSubs.csv', index = False)"
   ]
  },
  {
   "cell_type": "code",
   "execution_count": null,
   "metadata": {},
   "outputs": [],
   "source": [
    "columnNames = MRIandQCcomplete.columns.values.tolist()"
   ]
  },
  {
   "cell_type": "code",
   "execution_count": null,
   "metadata": {},
   "outputs": [],
   "source": [
    "columnNames"
   ]
  },
  {
   "cell_type": "code",
   "execution_count": null,
   "metadata": {},
   "outputs": [],
   "source": [
    "## relevant metadata\n",
    "relevantMRIdata = MRIandQCcomplete[['subjectkey','interview_date_M1',\n",
    "                                    'interview_age_M1','sex_M1','eventname_M1','fsqc_qc_MQC','dmri_dti_postqc_qc_DQC']]"
   ]
  },
  {
   "cell_type": "code",
   "execution_count": null,
   "metadata": {},
   "outputs": [],
   "source": [
    "relevantMRIdata['dmri_dti_postqc_qc_DQC'].unique()"
   ]
  },
  {
   "cell_type": "code",
   "execution_count": null,
   "metadata": {},
   "outputs": [],
   "source": [
    "exc1 = relevantMRIdata.groupby(['dmri_dti_postqc_qc_DQC']).size().reset_index(name='count')\n",
    "exc1\n",
    "## 46 exclude cases, 95 accept, rest NaN"
   ]
  },
  {
   "cell_type": "code",
   "execution_count": null,
   "metadata": {},
   "outputs": [],
   "source": [
    "exc2 = relevantMRIdata.groupby(['fsqc_qc_MQC']).size().reset_index(name='count')\n",
    "exc2\n",
    "## 22 exclude cases, 67 accept, rest NaN"
   ]
  },
  {
   "cell_type": "code",
   "execution_count": null,
   "metadata": {},
   "outputs": [],
   "source": [
    "## extract MRI data by feature type\n",
    "sulcal = MRIandQCcomplete.filter(regex=\".*smri_sulc_cdk.*\")\n",
    "sulcal['subjectkey'] = MRIandQCcomplete['subjectkey']\n",
    "thickness = MRIandQCcomplete.filter(regex=\".*smri_thick_cdk.*\")\n",
    "thickness['subjectkey'] = MRIandQCcomplete['subjectkey']\n",
    "area = MRIandQCcomplete.filter(regex=\".*smri_area_cdk.*\")\n",
    "area['subjectkey'] = MRIandQCcomplete['subjectkey']\n",
    "volume = MRIandQCcomplete.filter(regex=\".*smri_vol_cdk.*\")\n",
    "volume['subjectkey'] = MRIandQCcomplete['subjectkey']\n",
    "subcortical = MRIandQCcomplete.filter(regex=\".*smri_vol_scs.*\")\n",
    "subcortical['subjectkey'] = MRIandQCcomplete['subjectkey']"
   ]
  },
  {
   "cell_type": "code",
   "execution_count": null,
   "metadata": {},
   "outputs": [],
   "source": [
    "M1 = [sulcal,thickness,area,volume,subcortical]\n",
    "from functools import reduce\n",
    "allM1 = reduce(lambda left,right: pd.merge(left,right,on=['subjectkey'], how='outer'), M1)"
   ]
  },
  {
   "cell_type": "code",
   "execution_count": null,
   "metadata": {},
   "outputs": [],
   "source": [
    "contrast = MRIandQCcomplete.filter(regex = '.*smri_t1wcnt_cdk.*')\n",
    "contrast['subjectkey'] = MRIandQCcomplete['subjectkey']"
   ]
  },
  {
   "cell_type": "code",
   "execution_count": null,
   "metadata": {},
   "outputs": [],
   "source": [
    "meanDiffusivity = MRIandQCcomplete.filter(regex = '.*dmri_dtimd_fiberat.*')\n",
    "meanDiffusivity['subjectkey'] = MRIandQCcomplete['subjectkey']"
   ]
  },
  {
   "cell_type": "code",
   "execution_count": null,
   "metadata": {},
   "outputs": [],
   "source": [
    "MRIpredictors = pd.merge(allM1,pd.merge(contrast,meanDiffusivity),how='outer',on='subjectkey')\n",
    "MRIpredictorsPlusMeta = pd.merge(MRIpredictors,relevantMRIdata, how='outer',on='subjectkey')"
   ]
  },
  {
   "cell_type": "code",
   "execution_count": null,
   "metadata": {},
   "outputs": [],
   "source": [
    "## kick out subjects who got marked as to be excluded in the QC variable\n",
    "MRIpredictorsPlusMeta = MRIpredictorsPlusMeta[(MRIpredictorsPlusMeta['fsqc_qc_MQC']!='0') & (MRIpredictorsPlusMeta['dmri_dti_postqc_qc_DQC']!='0')]"
   ]
  },
  {
   "cell_type": "code",
   "execution_count": null,
   "metadata": {},
   "outputs": [],
   "source": [
    "## check for missing values\n",
    "NaNList = MRIpredictorsPlusMeta.isna().sum().reset_index()\n",
    "NaNList = NaNList[NaNList[0] != 0]\n",
    "NaNList"
   ]
  },
  {
   "cell_type": "code",
   "execution_count": null,
   "metadata": {},
   "outputs": [],
   "source": [
    "## drop columns that are NaN for every subject\n",
    "MRIpredictorsPlusMeta = MRIpredictorsPlusMeta.drop(columns=['smri_vol_scs_lesionlh_M1','smri_vol_scs_lesionrh_M1'])\n",
    "# drop QC columns as well, any valuable information from it has been used already\n",
    "MRIpredictorsPlusMeta = MRIpredictorsPlusMeta.drop(columns=['fsqc_qc_MQC','dmri_dti_postqc_qc_DQC'])\n",
    "# drop subjects which have no DTI mean diffusivity data\n",
    "MRIpredictorsPlusMeta = MRIpredictorsPlusMeta.dropna()"
   ]
  },
  {
   "cell_type": "code",
   "execution_count": null,
   "metadata": {},
   "outputs": [],
   "source": [
    "#MRIpredictorsPlusMeta = MRIpredictorsPlusMeta.reset_index(drop=True)"
   ]
  },
  {
   "cell_type": "code",
   "execution_count": null,
   "metadata": {},
   "outputs": [],
   "source": [
    "#MRIpredictorsPlusMeta.to_csv('../MRIpredictorsPlusMeta.csv', index=False)"
   ]
  },
  {
   "cell_type": "code",
   "execution_count": null,
   "metadata": {},
   "outputs": [],
   "source": [
    "## get subjects' puberty data\n",
    "subjectkeys = MRIpredictorsPlusMeta['subjectkey']\n",
    "subjectkeys = subjectkeys.values.tolist()\n",
    "pubertyData = pubertyData.loc[pubertyData['subjectkey'].isin(subjectkeys)]\n",
    "pub = pubertyData.groupby(['pds_f5_y_P']).size().reset_index(name='count')\n",
    "pub"
   ]
  },
  {
   "cell_type": "code",
   "execution_count": null,
   "metadata": {},
   "outputs": [],
   "source": [
    "#pubertyData = pubertyData.reset_index(drop=True)"
   ]
  },
  {
   "cell_type": "code",
   "execution_count": null,
   "metadata": {},
   "outputs": [],
   "source": [
    "## sort puberty and MRI data by subjectkey\n",
    "pubDf = pubertyData.sort_values(by = ['subjectkey'])\n",
    "mriDf = MRIpredictorsPlusMeta.sort_values(by = ['subjectkey'])"
   ]
  },
  {
   "cell_type": "code",
   "execution_count": null,
   "metadata": {},
   "outputs": [],
   "source": [
    "pubDf.to_csv('processedData\\\\processedPubertyDataMenarcheSubs.csv', index = False)\n",
    "mriDf.to_csv('processedData\\\\processedMRIDataMenarcheSubs.csv', index = False)"
   ]
  }
 ],
 "metadata": {
  "kernelspec": {
   "display_name": "Python 3 (ipykernel)",
   "language": "python",
   "name": "python3"
  },
  "language_info": {
   "codemirror_mode": {
    "name": "ipython",
    "version": 3
   },
   "file_extension": ".py",
   "mimetype": "text/x-python",
   "name": "python",
   "nbconvert_exporter": "python",
   "pygments_lexer": "ipython3",
   "version": "3.11.5"
  }
 },
 "nbformat": 4,
 "nbformat_minor": 4
}
