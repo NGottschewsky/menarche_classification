{
 "cells": [
  {
   "cell_type": "code",
   "execution_count": null,
   "id": "84059d16",
   "metadata": {},
   "outputs": [],
   "source": [
    "import pandas as pd\n",
    "import numpy as np\n",
    "from matplotlib import pyplot as plt\n",
    "import seaborn as sns\n",
    "sns.set() \n",
    "import os"
   ]
  },
  {
   "cell_type": "code",
   "execution_count": null,
   "id": "beb8e2c6",
   "metadata": {},
   "outputs": [],
   "source": [
    "os.chdir('processedData\\\\')\n",
    "cwd = os.getcwd"
   ]
  },
  {
   "cell_type": "code",
   "execution_count": null,
   "id": "b5fe4cc1",
   "metadata": {},
   "outputs": [],
   "source": [
    "sns.set_style({'axes.facecolor': 'white',\n",
    " 'axes.edgecolor': '.15',\n",
    " 'axes.grid': True,\n",
    " 'axes.axisbelow': True,\n",
    " 'axes.labelcolor': '.15',\n",
    " 'figure.facecolor': 'white',\n",
    " 'grid.color': '.8',\n",
    " 'grid.linestyle': '-',\n",
    " 'text.color': '.15',\n",
    " 'xtick.color': '.15',\n",
    " 'ytick.color': '.15',\n",
    " 'xtick.direction': 'out',\n",
    " 'ytick.direction': 'out',\n",
    " #'lines.solid_capstyle': <CapStyle.round: 'round'>,\n",
    " 'patch.edgecolor': 'w',\n",
    " 'patch.force_edgecolor': True,\n",
    " 'image.cmap': 'rocket',\n",
    " 'font.family': ['sans-serif'],\n",
    " 'font.sans-serif': ['Arial',\n",
    "  'DejaVu Sans',\n",
    "  'Liberation Sans',\n",
    "  'Bitstream Vera Sans',\n",
    "  'sans-serif'],\n",
    " 'xtick.bottom': False,\n",
    " 'xtick.top': False,\n",
    " 'ytick.left': False,\n",
    " 'ytick.right': False,\n",
    " 'axes.spines.left': True,\n",
    " 'axes.spines.bottom': True,\n",
    " 'axes.spines.right': True,\n",
    " 'axes.spines.top': True})"
   ]
  },
  {
   "cell_type": "code",
   "execution_count": null,
   "id": "cda139bf",
   "metadata": {},
   "outputs": [],
   "source": [
    "sns.set_context({'font.size': 15.0,\n",
    " 'axes.labelsize': 'medium',\n",
    " 'axes.titlesize': 'large',\n",
    " 'xtick.labelsize': 'medium',\n",
    " 'ytick.labelsize': 'medium',\n",
    " 'legend.fontsize': 'medium',\n",
    " 'axes.linewidth': 0.8,\n",
    " 'grid.linewidth': 0.8,\n",
    " 'lines.linewidth': 1.5,\n",
    " 'lines.markersize': 6.0,\n",
    " 'patch.linewidth': 1.0,\n",
    " 'xtick.major.width': 0.8,\n",
    " 'ytick.major.width': 0.8,\n",
    " 'xtick.minor.width': 0.6,\n",
    " 'ytick.minor.width': 0.6,\n",
    " 'xtick.major.size': 3.5,\n",
    " 'ytick.major.size': 3.5,\n",
    " 'xtick.minor.size': 2.0,\n",
    " 'ytick.minor.size': 2.0,\n",
    " 'legend.title_fontsize': None})"
   ]
  },
  {
   "cell_type": "code",
   "execution_count": null,
   "id": "3e254ebb",
   "metadata": {},
   "outputs": [],
   "source": [
    "MRI = pd.read_csv('processedMRIDataMenarcheSubs.csv')\n",
    "puberty = pd.read_csv('processedPubertyDataMenarcheSubs.csv')"
   ]
  },
  {
   "cell_type": "code",
   "execution_count": null,
   "id": "abf45bd9",
   "metadata": {},
   "outputs": [],
   "source": [
    "# get only the menarche variable from the puberty df\n",
    "y = puberty[['subjectkey','pds_f5_y_P']]\n",
    "# combine imaging data with the menarche variable\n",
    "completeData = MRI.merge(y, on='subjectkey', how='outer')"
   ]
  },
  {
   "cell_type": "code",
   "execution_count": null,
   "id": "b98219fd",
   "metadata": {},
   "outputs": [],
   "source": [
    "# remove redundant columns that contain averaged or totalled data\n",
    "\n",
    "# remove averaged data from thickness data\n",
    "reduced = completeData.drop(columns = completeData.filter(regex = '.*cdk_mean.*'))\n",
    "\n",
    "# remove summed up data from volume and area data\n",
    "reduced = reduced.drop(columns = reduced.filter(regex = '.*.*cdk_total'))\n",
    "\n",
    "# remove subcortical volume sums\n",
    "reduced = reduced.drop(columns=['smri_vol_scs_intracranialv_M1', 'smri_vol_scs_allventricles_M1', 'smri_vol_scs_wholeb_M1'])"
   ]
  },
  {
   "cell_type": "code",
   "execution_count": null,
   "id": "4d63b418",
   "metadata": {},
   "outputs": [],
   "source": [
    "# look at pre vs post menarche distributions\n",
    "pub = reduced.groupby(['pds_f5_y_P']).size().reset_index(name='count')\n",
    "pub"
   ]
  },
  {
   "cell_type": "code",
   "execution_count": null,
   "id": "61d6c260",
   "metadata": {},
   "outputs": [],
   "source": [
    "# split the data by using 20% as held out test data\n",
    "holdoutTest = reduced.sample(frac=0.2, random_state=666)"
   ]
  },
  {
   "cell_type": "code",
   "execution_count": null,
   "id": "cdf8a6d4",
   "metadata": {},
   "outputs": [],
   "source": [
    "# drop test subjects from data to create training dataset\n",
    "TrainingData = reduced.drop(index = holdoutTest.index)"
   ]
  },
  {
   "cell_type": "code",
   "execution_count": null,
   "id": "5cc371ed",
   "metadata": {},
   "outputs": [],
   "source": [
    "# look at distribution of test data\n",
    "testdist = holdoutTest.groupby(['pds_f5_y_P']).size().reset_index(name='count')\n",
    "testdist"
   ]
  },
  {
   "cell_type": "code",
   "execution_count": null,
   "id": "2fe7f0e5",
   "metadata": {},
   "outputs": [],
   "source": [
    "# look at distribution of test data\n",
    "holdoutTest.groupby('pds_f5_y_P')['interview_age_M1'].mean()/12"
   ]
  },
  {
   "cell_type": "code",
   "execution_count": null,
   "id": "43d896ba",
   "metadata": {
    "scrolled": true
   },
   "outputs": [],
   "source": [
    "# look at distribution of test data\n",
    "holdoutTest.groupby('pds_f5_y_P')['interview_age_M1'].std()/12"
   ]
  },
  {
   "cell_type": "code",
   "execution_count": null,
   "id": "4e311364",
   "metadata": {},
   "outputs": [],
   "source": [
    "# look at distribution of training data\n",
    "traindist = TrainingData.groupby(['pds_f5_y_P']).size().reset_index(name='count')\n",
    "traindist"
   ]
  },
  {
   "cell_type": "code",
   "execution_count": null,
   "id": "a3f9b4ea",
   "metadata": {},
   "outputs": [],
   "source": [
    "# look at distribution of training data\n",
    "TrainingData.groupby('pds_f5_y_P')['interview_age_M1'].mean()/12"
   ]
  },
  {
   "cell_type": "code",
   "execution_count": null,
   "id": "e5124057",
   "metadata": {
    "scrolled": true
   },
   "outputs": [],
   "source": [
    "# look at distribution of training data\n",
    "TrainingData.groupby('pds_f5_y_P')['interview_age_M1'].std()/12"
   ]
  },
  {
   "cell_type": "code",
   "execution_count": null,
   "id": "81f466f0",
   "metadata": {
    "scrolled": false
   },
   "outputs": [],
   "source": [
    "# Compare distributions -> No visible distortion of distribution introduced by random sampling\n",
    "\n",
    "fig, (ax1,ax2,ax3) = plt.subplots(1,3, figsize = (15,6))\n",
    "fig.tight_layout(pad = 2)\n",
    "\n",
    "a1 = sns.barplot(x = 'pds_f5_y_P', y = 'count', data = pub, palette=\"Reds\", ax=ax1)\n",
    "a1.set_xlabel('Menarche Status')\n",
    "a1.set_xticklabels(['Pre','Post'])\n",
    "a1.set_title('Complete Data', size = 15)\n",
    "\n",
    "a2 = sns.barplot(x = 'pds_f5_y_P', y = 'count', data = traindist, palette=\"Reds\", ax=ax2)\n",
    "a2.set_xlabel('Menarche Status')\n",
    "a2.set_xticklabels(['Pre','Post'])\n",
    "a2.set_title('Training Data - pre matching', size = 15)\n",
    "\n",
    "a3 = sns.barplot(x = 'pds_f5_y_P', y = 'count', data = testdist, palette=\"Reds\", ax=ax3)\n",
    "a3.set_xlabel('Menarche Status')\n",
    "a3.set_xticklabels(['Pre','Post'])\n",
    "a3.set_title('Test Data', size = 15)\n",
    "plt.savefig('..\\\\Plots\\\\MenarcheDistributions.pdf', dpi = 1000)"
   ]
  },
  {
   "cell_type": "code",
   "execution_count": null,
   "id": "0468243b",
   "metadata": {},
   "outputs": [],
   "source": [
    "# save data for further preprocessing (scansite harmonisation + propensity score matching)\n",
    "\n",
    "holdoutTest.to_csv('menarcheTest_redONLYSMRI.csv', index = False)\n",
    "TrainingData.to_csv('menarcheTrain_redONLYSMRI.csv', index = False)"
   ]
  }
 ],
 "metadata": {
  "kernelspec": {
   "display_name": "Python 3 (ipykernel)",
   "language": "python",
   "name": "python3"
  },
  "language_info": {
   "codemirror_mode": {
    "name": "ipython",
    "version": 3
   },
   "file_extension": ".py",
   "mimetype": "text/x-python",
   "name": "python",
   "nbconvert_exporter": "python",
   "pygments_lexer": "ipython3",
   "version": "3.11.5"
  }
 },
 "nbformat": 4,
 "nbformat_minor": 5
}
