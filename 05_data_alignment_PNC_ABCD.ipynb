{
 "cells": [
  {
   "cell_type": "code",
   "execution_count": null,
   "id": "e0fcdb86",
   "metadata": {},
   "outputs": [],
   "source": [
    "import pandas as pd\n",
    "import numpy as np\n",
    "from matplotlib import pyplot as plt\n",
    "import seaborn as sns\n",
    "import os"
   ]
  },
  {
   "cell_type": "code",
   "execution_count": null,
   "id": "26c94372",
   "metadata": {},
   "outputs": [],
   "source": [
    "## Folder containing tabulated MRI data from the PNC study\n",
    "os.chdir('regularFSstats')"
   ]
  },
  {
   "cell_type": "code",
   "execution_count": null,
   "id": "0cbe8417",
   "metadata": {},
   "outputs": [],
   "source": [
    "## Read area, thickness, volume and subcortical volume data into data frames\n",
    "arearhPNC = pd.read_csv('rh.area.txt',sep='\\s+')\n",
    "arealhPNC = pd.read_csv('lh.area.txt',sep='\\s+')\n",
    "thickrhPNC = pd.read_csv('rh.thicknessstd.txt',sep='\\s+')\n",
    "thicklhPNC = pd.read_csv('lh.thicknessstd.txt',sep='\\s+')\n",
    "volumerhPNC = pd.read_csv('rh.volume.txt',sep='\\s+')\n",
    "volumelhPNC = pd.read_csv('lh.volume.txt',sep='\\s+')\n",
    "subcorticalPNC = pd.read_csv('subcorticalstats.txt',sep='\\s+')"
   ]
  },
  {
   "cell_type": "code",
   "execution_count": null,
   "id": "8bab04d9",
   "metadata": {},
   "outputs": [],
   "source": [
    "## Align naming of ID column to enable merging of data frames\n",
    "FSlist = [arearhPNC, arealhPNC, thickrhPNC, thicklhPNC, volumerhPNC, volumelhPNC, subcorticalPNC]\n",
    "\n",
    "for fs in FSlist:\n",
    "    fs.columns = fs.columns.str.replace(\".*aparc.*\", \"ID\", regex=True)\n",
    "\n",
    "subcorticalPNC.rename(columns = {'Measure:volume':'ID'}, inplace=True)"
   ]
  },
  {
   "cell_type": "code",
   "execution_count": null,
   "id": "14ee8fe9",
   "metadata": {},
   "outputs": [],
   "source": [
    "areaPNC = arealhPNC.merge(arearhPNC, how='outer', on='ID')\n",
    "\n",
    "thickPNC = thicklhPNC.merge(thickrhPNC, how='outer', on='ID')\n",
    "\n",
    "volPNC = volumelhPNC.merge(volumerhPNC, how='outer', on='ID')"
   ]
  },
  {
   "cell_type": "code",
   "execution_count": null,
   "id": "095d1a8a",
   "metadata": {},
   "outputs": [],
   "source": [
    "'''MAKE PATHS RELATIVE'''\n",
    "## To match the test data, uncomment this cell\n",
    "MRITest = pd.read_csv('..\\\\processedData\\\\harmonizedTestdata_plusscannerdfONLYSMRI.csv')\n",
    "\n",
    "## To match the training data, uncomment this cell\n",
    "MRITrain = pd.read_csv('..\\\\processedData\\\\menarcheTrain_harm_red_matchedAgeScannerONLYSMRI.csv')\n",
    "\n",
    "testSubs = MRITest['subjectkey'].to_list()\n",
    "trainSubs = MRITrain['subjectkey'].to_list()\n",
    "\n",
    "MRI = pd.concat([MRITrain, MRITest])"
   ]
  },
  {
   "cell_type": "code",
   "execution_count": null,
   "id": "a7378557",
   "metadata": {},
   "outputs": [],
   "source": [
    "subABCD = pd.read_csv('..\\\\ABCDTabular\\\\abcd_smrip10201.txt', sep='\\s+') \n",
    "subABCD = subABCD[subABCD['subjectkey'].isin(MRI['subjectkey'])]\n",
    "subABCD = subABCD[subABCD['eventname'] == '2_year_follow_up_y_arm_1']"
   ]
  },
  {
   "cell_type": "code",
   "execution_count": null,
   "id": "1bb57f05",
   "metadata": {
    "scrolled": true
   },
   "outputs": [],
   "source": [
    "## Tease apart the individual MRI measures \n",
    "thickABCD = MRI.filter(regex=\".*smri_thick_cdk.*\").copy()\n",
    "thickABCD['subjectkey'] = MRI['subjectkey']\n",
    "areaABCD = MRI.filter(regex=\".*smri_area_cdk.*\").copy()\n",
    "areaABCD['subjectkey'] = MRI['subjectkey']\n",
    "volABCD = MRI.filter(regex=\".*smri_vol_cdk.*\").copy()\n",
    "volABCD['subjectkey'] = MRI['subjectkey']\n",
    "subcorticalABCD = subABCD.filter(regex=\".*vol_scs.*\").copy()\n",
    "subcorticalABCD['subjectkey'] = subABCD['subjectkey']"
   ]
  },
  {
   "cell_type": "code",
   "execution_count": null,
   "id": "8401c373",
   "metadata": {},
   "outputs": [],
   "source": [
    "## Drop duplicates caught by merging\n",
    "thickPNC.drop(columns = ['BrainSegVolNotVent_y', 'BrainSegVolNotVent_x', 'eTIV_y', 'eTIV_x'], inplace = True)\n",
    "volPNC.drop(columns = ['BrainSegVolNotVent_y', 'BrainSegVolNotVent_x', 'eTIV_y', 'eTIV_x'], inplace = True)\n",
    "areaPNC.drop(columns = ['BrainSegVolNotVent_y', 'BrainSegVolNotVent_x', 'eTIV_y', 'eTIV_x', \n",
    "                        'rh_WhiteSurfArea_area', 'lh_WhiteSurfArea_area'], inplace = True)"
   ]
  },
  {
   "cell_type": "code",
   "execution_count": null,
   "id": "65f5ff5e",
   "metadata": {},
   "outputs": [],
   "source": [
    "subcorticalPNC.columns"
   ]
  },
  {
   "cell_type": "code",
   "execution_count": null,
   "id": "a59329e7",
   "metadata": {},
   "outputs": [],
   "source": [
    "subcorticalABCD.columns"
   ]
  },
  {
   "cell_type": "code",
   "execution_count": null,
   "id": "8a864df8",
   "metadata": {},
   "outputs": [],
   "source": [
    "## Drop unnecessary columns (such as total intracranial volume)\n",
    "subcorticalABCD.drop(columns=['smri_vol_scs_wholeb','smri_vol_scs_latventricles','smri_vol_scs_allventricles',\n",
    "                              'smri_vol_scs_intracranialv','smri_vol_scs_lesionlh','smri_vol_scs_lesionrh'], inplace=True)"
   ]
  },
  {
   "cell_type": "code",
   "execution_count": null,
   "id": "53c1e3bb",
   "metadata": {},
   "outputs": [],
   "source": [
    "## Drop unnecessary columns (such as total intracranial volume)\n",
    "subcorticalPNC = subcorticalPNC.drop(columns=['Left-vessel', 'Left-choroid-plexus', 'Right-vessel', 'Right-choroid-plexus', '5th-Ventricle',\n",
    "                                           'non-WM-hypointensities', 'Left-non-WM-hypointensities', 'Right-non-WM-hypointensities',\n",
    "                                           'Optic-Chiasm', 'BrainSegVol', 'BrainSegVolNotVent', 'lhCortexVol', 'rhCortexVol', 'CortexVol',\n",
    "                                           'CerebralWhiteMatterVol', 'TotalGrayVol', 'SupraTentorialVolNotVent', 'MaskVol',\n",
    "                                           'BrainSegVol-to-eTIV', 'MaskVol-to-eTIV', 'lhSurfaceHoles', 'rhSurfaceHoles', 'SurfaceHoles',\n",
    "                                           'EstimatedTotalIntraCranialVol'])"
   ]
  },
  {
   "cell_type": "code",
   "execution_count": null,
   "id": "3c62b9f5",
   "metadata": {},
   "outputs": [],
   "source": [
    "## Load demographic PNC data to exclude subjects with med_rating >= 3\n",
    "demographicsPNC = pd.read_csv('..\\\\processedData\\\\age_sex_med.csv', sep=';')"
   ]
  },
  {
   "cell_type": "code",
   "execution_count": null,
   "id": "d8afbb8d",
   "metadata": {},
   "outputs": [],
   "source": [
    "## Load Euler data to exclude subjects with Euler number > 3 std below mean \n",
    "eulernumberPNC = pd.read_csv('..\\\\processedData\\\\allEulerPNC.csv')"
   ]
  },
  {
   "cell_type": "code",
   "execution_count": null,
   "id": "c861e7f2",
   "metadata": {},
   "outputs": [],
   "source": [
    "## Delete bad Euler subjects\n",
    "eulernumberPNC['euler_mean'] = (eulernumberPNC['euler_lh']+eulernumberPNC['euler_rh'])/2\n",
    "delSubjects = eulernumberPNC[eulernumberPNC['euler_mean'] < (-(abs(eulernumberPNC['euler_mean'].mean()) + 3* eulernumberPNC['euler_mean'].std()))]\n",
    "eulernumberPNC = eulernumberPNC.drop(index = delSubjects.index)"
   ]
  },
  {
   "cell_type": "code",
   "execution_count": null,
   "id": "3055a614",
   "metadata": {},
   "outputs": [],
   "source": [
    "## Delete subjects with severe medical conditions\n",
    "todelete = demographicsPNC[demographicsPNC['med_rating'] >= 3.0]\n",
    "demographicsPNC = demographicsPNC.drop(index = todelete.index)"
   ]
  },
  {
   "cell_type": "code",
   "execution_count": null,
   "id": "be4f3a07",
   "metadata": {},
   "outputs": [],
   "source": [
    "## Combine both\n",
    "demog_red = demographicsPNC.loc[demographicsPNC['SUBJID'].isin(eulernumberPNC['subject'])] \n",
    "euler_red = eulernumberPNC.loc[eulernumberPNC['subject'].isin(demog_red['SUBJID'])]\n",
    "demog_red.rename(columns = {'SUBJID':'subject'}, inplace = True)\n",
    "demogandeuler = demog_red.merge(euler_red, how = 'outer', on = 'subject')"
   ]
  },
  {
   "cell_type": "code",
   "execution_count": null,
   "id": "b48b6530",
   "metadata": {},
   "outputs": [],
   "source": [
    "## Load file specifying which subcortical features to include (in accordance to previous work)\n",
    "subfeatselect = pd.read_csv('subcorticalFeatureSelection.txt', sep=';')"
   ]
  },
  {
   "cell_type": "code",
   "execution_count": null,
   "id": "1b5e2eaf",
   "metadata": {},
   "outputs": [],
   "source": [
    "## Reduce from 64 to 30 subcortical features\n",
    "subfeat = subfeatselect['feature'][subfeatselect['include1_exclude0'] == 1]\n",
    "subfeat = subfeat.drop(index = 63)\n",
    "## Turn into list and append ID\n",
    "subfeat = subfeat.to_list()\n",
    "subfeat.append('ID')\n",
    "## Reduce PNC subcortical data to the selected columns\n",
    "subcorticalPNC = subcorticalPNC[subfeat]"
   ]
  },
  {
   "cell_type": "code",
   "execution_count": null,
   "id": "25e94b7d",
   "metadata": {},
   "outputs": [],
   "source": [
    "## Specify columns to drop from subcortical ABCD data and drop\n",
    "drop_sub = ['smri_vol_scs_cbwmatterlh', 'smri_vol_scs_csf', 'smri_vol_scs_vedclh', 'smri_vol_scs_wmhint', 'smri_vol_scs_cbwmatterrh', \n",
    "            'smri_vol_scs_vedcrh', 'smri_vol_scs_wmhintlh', 'smri_vol_scs_wmhintrh', 'smri_vol_scs_suprateialv', 'smri_vol_scs_subcorticalgv']\n",
    "\n",
    "subcorticalABCD.drop(columns=drop_sub, inplace=True)"
   ]
  },
  {
   "cell_type": "code",
   "execution_count": null,
   "id": "e6d19433",
   "metadata": {},
   "outputs": [],
   "source": [
    "## Merge all PNC MRI Dfs\n",
    "mergePNC = [areaPNC, volPNC, thickPNC, subcorticalPNC]\n",
    "\n",
    "from functools import reduce\n",
    "allPNC = reduce(lambda left,right: pd.merge(left,right,on=['ID'], how='outer'), mergePNC)\n",
    "allPNC"
   ]
  },
  {
   "cell_type": "code",
   "execution_count": null,
   "id": "f2698fc5",
   "metadata": {},
   "outputs": [],
   "source": [
    "## Merge all ABCD MRI Dfs to create Df with only MRI features and subjectkey\n",
    "mergeABCD = [areaABCD, volABCD, thickABCD, subcorticalABCD]\n",
    "\n",
    "from functools import reduce\n",
    "allABCD = reduce(lambda left,right: pd.merge(left,right,on=['subjectkey'], how='outer'), mergeABCD)\n",
    "allABCD"
   ]
  },
  {
   "cell_type": "code",
   "execution_count": null,
   "id": "9e9e9c60",
   "metadata": {},
   "outputs": [],
   "source": [
    "## Remove subjects with bad Euler or Med rating\n",
    "demogandeuler.rename(columns={'subject':'ID'},inplace=True)\n",
    "allPNCred = allPNC[allPNC['ID'].isin(demogandeuler['ID'])]"
   ]
  },
  {
   "cell_type": "code",
   "execution_count": null,
   "id": "6668b514",
   "metadata": {},
   "outputs": [],
   "source": [
    "## Bring PNC MRI and demographic Df in same order and add sex to MRI data\n",
    "allPNCred.sort_values(by = 'ID', inplace = True, ignore_index = True)\n",
    "demogandeuler.sort_values(by = 'ID', inplace = True, ignore_index = True)\n",
    "\n",
    "allPNCred['sex'] = demogandeuler['sex_from_pedigree_data']"
   ]
  },
  {
   "cell_type": "code",
   "execution_count": null,
   "id": "ef4b3cf4",
   "metadata": {},
   "outputs": [],
   "source": [
    "## Rename sex values from 1.0, 2.0 to F and M\n",
    "allPNCred.loc[allPNCred['sex'] == 2.0, 'sex'] = 'F'\n",
    "allPNCred.loc[allPNCred['sex'] == 1.0, 'sex'] = 'M'"
   ]
  },
  {
   "cell_type": "code",
   "execution_count": null,
   "id": "f939dd9f",
   "metadata": {},
   "outputs": [],
   "source": [
    "## Combine PNC Dfs\n",
    "PNC_MRIandDemog = pd.merge(allPNCred, demogandeuler, on = 'ID', how = 'outer')"
   ]
  },
  {
   "cell_type": "code",
   "execution_count": null,
   "id": "3b963408",
   "metadata": {},
   "outputs": [],
   "source": [
    "## Make training feature Df with only MRI data and subject ID\n",
    "PNCtraining = PNC_MRIandDemog.drop(columns = demogandeuler.columns.to_list())"
   ]
  },
  {
   "cell_type": "code",
   "execution_count": null,
   "id": "987027c5",
   "metadata": {},
   "outputs": [],
   "source": [
    "## Make training labels array\n",
    "PNClabels = PNC_MRIandDemog['ageAtScan'].copy()"
   ]
  },
  {
   "cell_type": "code",
   "execution_count": null,
   "id": "285e06d4",
   "metadata": {},
   "outputs": [],
   "source": [
    "MRITestABCD = allABCD[allABCD['subjectkey'].isin(MRITest['subjectkey'])]\n",
    "MRITrainABCD = allABCD[allABCD['subjectkey'].isin(MRITrain['subjectkey'])]"
   ]
  },
  {
   "cell_type": "code",
   "execution_count": null,
   "id": "315ec4d3",
   "metadata": {},
   "outputs": [],
   "source": [
    "MRITrainABCD.to_csv('..\\\\processedData\\\\TrainAgePredFeaturesHarmonised.csv', index = False)\n",
    "MRITestABCD.to_csv('..\\\\processedData\\\\TestAgePredFeaturesHarmonised.csv', index = False)"
   ]
  },
  {
   "cell_type": "code",
   "execution_count": null,
   "id": "0ba0fda9",
   "metadata": {},
   "outputs": [],
   "source": [
    "PNCtraining.to_csv('..\\\\processedData\\\\PNCtraining.csv', index = False)\n",
    "PNClabels.to_csv('..\\\\processedData\\\\PNClabels.csv', index = False)"
   ]
  },
  {
   "cell_type": "code",
   "execution_count": null,
   "id": "87e49d63",
   "metadata": {},
   "outputs": [],
   "source": [
    "## Make table of all features used to save as csv file\n",
    "ABCD_subc = allABCD.filter(regex=\".*_vol_scs_.*\").copy()\n",
    "thickABCDlh = thickABCD.filter(regex=\".*lh.*\").copy()\n",
    "areaABCDlh = areaABCD.filter(regex=\".*lh.*\").copy()\n",
    "volABCDlh = volABCD.filter(regex=\".*lh.*\").copy()\n",
    "allFeatures2 = pd.DataFrame({'Thickness': thickABCDlh.columns, 'Volume': volABCDlh.columns, 'Area': areaABCDlh.columns}) \n",
    "\n",
    "allFeatures = pd.DataFrame({'Thickness': thickrhPNC.columns, 'Volume': volumerhPNC.columns}) \n",
    "allFeatures['Area'] = (arearhPNC.drop(columns = 'rh_WhiteSurfArea_area')).columns\n",
    "subvols = pd.Series(ABCD_subc.columns, name='SubcorticalVolumes')\n",
    "allFeatures.drop(0, inplace = True)\n",
    "allFeatures.reset_index(inplace = True, drop = True)\n",
    "allFeatures['SubcorticalVolumes'] = subvols\n",
    "allFeatures2['SubcorticalVolumes'] = subvols\n",
    "allFeatures.drop([34,35], inplace = True)"
   ]
  },
  {
   "cell_type": "code",
   "execution_count": null,
   "id": "aab9ef64",
   "metadata": {},
   "outputs": [],
   "source": [
    "allFeatures"
   ]
  },
  {
   "cell_type": "code",
   "execution_count": null,
   "id": "9e27f521",
   "metadata": {},
   "outputs": [],
   "source": [
    "allFeatures2"
   ]
  },
  {
   "cell_type": "code",
   "execution_count": null,
   "id": "4f4ac6c5",
   "metadata": {},
   "outputs": [],
   "source": [
    "#allFeatures.to_csv('..\\\\processedData\\\\FeatureList.csv')"
   ]
  },
  {
   "cell_type": "code",
   "execution_count": null,
   "id": "07733c0d",
   "metadata": {},
   "outputs": [],
   "source": [
    "#allFeatures2.to_csv('..\\\\processedData\\\\FeatureListABCD.csv')"
   ]
  }
 ],
 "metadata": {
  "kernelspec": {
   "display_name": "Python 3 (ipykernel)",
   "language": "python",
   "name": "python3"
  },
  "language_info": {
   "codemirror_mode": {
    "name": "ipython",
    "version": 3
   },
   "file_extension": ".py",
   "mimetype": "text/x-python",
   "name": "python",
   "nbconvert_exporter": "python",
   "pygments_lexer": "ipython3",
   "version": "3.11.5"
  }
 },
 "nbformat": 4,
 "nbformat_minor": 5
}
